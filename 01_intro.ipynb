{
 "cells": [
  {
   "cell_type": "code",
   "execution_count": 1,
   "metadata": {},
   "outputs": [],
   "source": [
    "#hide\n",
    "! [ -e /content ] && pip install -Uqq fastbook\n",
    "import fastbook\n",
    "fastbook.setup_book()"
   ]
  },
  {
   "cell_type": "code",
   "execution_count": 2,
   "metadata": {},
   "outputs": [],
   "source": [
    "#hide\n",
    "from fastbook import *"
   ]
  },
  {
   "cell_type": "raw",
   "metadata": {},
   "source": [
    "[[chapter_intro]]"
   ]
  },
  {
   "cell_type": "markdown",
   "metadata": {},
   "source": [
    "# 你的深度学习之旅"
   ]
  },
  {
   "cell_type": "markdown",
   "metadata": {},
   "source": [
    "你好，感谢你让我们加入你的深度学习之旅，无论你已经走了多远！ 在本章中，我们将告诉你更多关于本书的内容，介绍深度学习背后的关键概念，并在不同的任务上训练我们的第一个模型。 如果你没有技术或数学背景也没关系（如果你也有这样的背景也没关系！）； 我们写这本书的目的是让尽可能多的人能够接触到深度学习。"
   ]
  },
  {
   "cell_type": "markdown",
   "metadata": {},
   "source": [
    "## 深度学习适合所有人"
   ]
  },
  {
   "cell_type": "markdown",
   "metadata": {},
   "source": [
    "很多人认为你需要各种难以找到的东西才能通过深度学习获得很好的结果，但正如你将在本书中看到的那样，这些人错了。 <<神话>>列出了一些你*绝对不需要*进行世界级深度学习的东西。\n",
    "```asciidoc\n",
    "[[myths]]\n",
    ".深度学习不需要做什么\n",
    "[options=\"header\"]\n",
    "|======\n",
    "| Myth (don't need) | Truth\n",
    "| Lots of math | Just high school math is sufficient\n",
    "| Lots of data | We've seen record-breaking results with <50 items of data\n",
    "| Lots of expensive computers | You can get what you need for state of the art work for free\n",
    "|======\n",
    "```\n",
    "\n",
    "深度学习是一种通过使用多层神经网络来提取和转换数据的计算机技术，其用例范围从人类语音识别到动物图像分类。 每一层都从前一层获取输入并逐步完善它们。 这些层通过算法进行训练，最大限度地减少错误并提高准确性。 通过这种方式，网络学习执行指定的任务。 我们将在下一节中详细讨论训练算法。"
   ]
  },
  {
   "cell_type": "markdown",
   "metadata": {},
   "source": [
    "深度学习具有强大的功能、灵活性和简单性。 这就是为什么我们认为它应该应用于许多学科。 其中包括社会科学和自然科学、艺术、医学、金融、科学研究等等。 举个个人例子，尽管 Jeremy 没有医学背景，但他创办了 Enlitic，这是一家使用深度学习算法来诊断疾病的公司。 公司成立后的几个月内，就宣布其算法可以识别恶性肿瘤[比放射科医生更准确](https://www.nytimes.com/2016/02/29/technology/the-promise-of-artificial-Intelligence-unfolds-in-small-steps.html)。\n",
    "\n",
    "以下是深度学习或大量使用深度学习的方法在不同领域的数千个任务中的一些任务的列表，这些任务目前是世界上最好的：\n",
    "\n",
    "- 自然语言处理（NLP）：：回答问题； 语音识别; 总结文件； 对文件进行分类； 在文件中查找姓名、日期等； 搜索提及某个概念的文章\n",
    "- 计算机视觉：卫星和无人机图像解释（例如，用于抗灾能力）； 人脸识别; 图像字幕； 阅读交通标志； 定位自动驾驶车辆中的行人和车辆\n",
    "- 医学：：发现放射图像中的异常，包括 CT、MRI 和 X 射线图像； 计数病理切片中的特征； 测量超声波特征； 诊断糖尿病视网膜病变\n",
    "- 生物学：：折叠蛋白质； 对蛋白质进行分类； 许多基因组学任务，例如肿瘤正常测序和对临床可操作的基因突变进行分类； 细胞分类； 分析蛋白质/蛋白质相互作用\n",
    "- 图像生成：：对图像进行着色； 提高图像分辨率； 去除图像中的噪声； 将图像转换为著名艺术家风格的艺术作品\n",
    "- 推荐系统：：网络搜索； 产品推荐； 主页布局\n",
    "- 玩游戏：：国际象棋、围棋、大多数 Atari 视频游戏以及许多实时策略游戏\n",
    "- 机器人技术：处理难以定位的物体（例如透明、闪亮、缺乏纹理）或难以拾取的物体\n",
    "- 其他应用：：财务和物流预测、文本转语音等等......"
   ]
  },
  {
   "cell_type": "markdown",
   "metadata": {},
   "source": [
    "值得注意的是，深度学习具有如此多样化的应用，但几乎所有深度学习都基于单一类型的模型，即神经网络。\n",
    "\n",
    "但神经网络实际上并不是全新的。 为了对这个领域有更广阔的视野，有必要从一些历史开始。"
   ]
  },
  {
   "cell_type": "markdown",
   "metadata": {},
   "source": [
    "## 神经网络：简史"
   ]
  },
  {
   "cell_type": "markdown",
   "metadata": {},
   "source": [
    "1943 年，神经生理学家 Warren McCulloch 和逻辑学家 Walter Pitts 联手开发了人工神经元的数学模型。 在他们的[论文](https://link.springer.com/article/10.1007/BF02478259)“神经活动中固有的思想的逻辑演算”中，他们宣称：\n",
    "\n",
    "> : 由于神经活动的“全有或全无”特征，神经事件及其之间的关系可以用命题逻辑来处理。 我们发现每个网络的行为都可以用这些术语来描述。"
   ]
  },
  {
   "cell_type": "markdown",
   "metadata": {},
   "source": [
    "麦卡洛克和皮茨意识到，可以使用简单的加法和阈值来表示真实神经元的简化模型，如《神经元》中所示。 皮茨是自学成才的，12 岁时就收到了剑桥大学的录取通知书，师从伟大的伯特兰·罗素 (Bertrand Russell)。 他没有接受这个邀请，事实上，他一生也没有接受任何高级学位或权威职位的邀请。 他的大部分著名作品都是在他无家可归时完成的。 尽管他缺乏官方认可的职位并且社会孤立日益严重，但他与麦卡洛克的工作具有影响力，并被一位名叫弗兰克·罗森布拉特的心理学家接手。"
   ]
  },
  {
   "cell_type": "markdown",
   "metadata": {},
   "source": [
    "<img alt=\"Natural and artificial neurons\" width=\"500\" caption=\"Natural and artificial neurons\" src=\"images/chapter7_neuron.png\" id=\"neuron\"/>"
   ]
  },
  {
   "cell_type": "markdown",
   "metadata": {},
   "source": [
    "罗森布拉特进一步开发了人工神经元，赋予其学习能力。 更重要的是，他致力于构建第一个实际使用这些原理的设备，即 Mark I 感知器。 罗森布拉特在《智能自动机的设计》中这样描述这项工作：“我们现在即将见证这样一台机器的诞生——一台能够在没有任何人类训练或控制的情况下感知、识别和识别周围环境的机器。” 感知器已经建成，并且能够成功识别简单的形状。\n",
    "\n",
    "一位名叫马文·明斯基（Marvin Minsky）的麻省理工学院教授（他在同一所高中比罗森布拉特低一个年级！）与西摩·帕佩特（Seymour Papert）一起写了一本名为《感知器》（麻省理工学院出版社）的书，讲述了罗森布拉特的发明。 他们表明，这些设备的单层无法学习一些简单但关键的数学函数（例如 XOR）。 在同一本书中，他们还表明，使用多层设备可以解决这些限制。 不幸的是，这些见解中只有第一个得到了广泛认可。 结果，全球学术界在接下来的二十年里几乎完全放弃了神经网络。"
   ]
  },
  {
   "cell_type": "markdown",
   "metadata": {},
   "source": [
    "也许过去 50 年神经网络领域最关键的工作是 David Rumelhart、James McClellan 和 PDP 研究小组于 1986 年由 MIT 出版社出版的多卷《并行分布式处理》（PDP）。 第一章提出了与罗森布拉特相似的希望：\n",
    "\n",
    ">：人们比当今的计算机更聪明，因为大脑采用了一种基本的计算架构，该架构更适合处理人们所擅长的自然信息处理任务的核心方面。 ...我们将引入一个用于建模认知过程的计算框架，它似乎比其他框架更接近计算风格，因为它可能是由大脑完成的。\n",
    "\n",
    "PDP 在这里使用的前提是传统计算机程序的工作方式与大脑非常不同，这可能就是为什么计算机程序（在那时）不擅长做大脑认为容易的事情（例如识别图片中的物体）。 作者声称 PDP 方法“更接近\n",
    "比其他框架更了解大脑的工作方式，因此它可能能够更好地处理此类任务。\n",
    "\n",
    "事实上，PDP 中提出的方法与当今神经网络中使用的方法非常相似。 该书将并行分布式处理定义为：\n",
    "\n",
    "1. 一组*处理单元*\n",
    "1. *激活状态*\n",
    "1. 每个单元的*输出功能*\n",
    "1. 单元之间的*连接模式*\n",
    "1. 通过连接网络传播活动模式的“传播规则”\n",
    "1. *激活规则*，用于将影响单元的输入与该单元的当前状态组合起来，以产生该单元的输出\n",
    "1.“学习规则”，根据经验修改连接模式\n",
    "1. 系统必须运行的*环境*\n",
    "\n",
    "我们将在本书中看到现代神经网络可以满足所有这些要求。\n",
    "\n",
    "在 1980 年代，大多数模型都是用第二层神经元构建的，从而避免了 Minsky 和 Papert 所发现的问题（这是他们的“单元之间的连接模式”，使用上面的框架）。 事实上，神经网络在 80 年代和 90 年代被广泛用于真实、实用的项目。 然而，对理论问题的误解再次阻碍了该领域的发展。 理论上，仅添加一层额外的神经元就足以让任何数学函数用这些神经网络来近似，但在实践中，此类网络通常太大且太慢而无法使用。\n",
    "\n",
    "尽管研究人员在 30 年前就表明，要获得实际的良好性能，你需要使用更多层的神经元，但直到最近十年，这一原理才得到更广泛的认识和应用。 由于使用了更多的层，再加上计算机硬件的改进、数据可用性的增加以及允许神经网络更快地训练的算法调整，神经网络现在终于发挥了它们的潜力。 更容易。 我们现在拥有罗森布拉特所承诺的：“一台能够感知、识别和识别周围环境的机器，无需任何人类训练或控制。”\n",
    "\n",
    "这就是你将在本书中学习如何构建的内容。 但首先，因为我们要花很多时间在一起，所以让我们互相了解一下……"
   ]
  },
  {
   "cell_type": "markdown",
   "metadata": {},
   "source": [
    "## 我们是谁"
   ]
  },
  {
   "cell_type": "markdown",
   "metadata": {},
   "source": [
    "我们是西尔万和杰里米，你们这段旅程的向导。 我们希望你会发现我们非常适合这个职位。\n",
    "\n",
    "Jeremy 使用和教授机器学习已有大约 30 年的历史。 他 25 年前开始使用神经网络。 在此期间，他领导了许多以机器学习为核心的公司和项目，包括创立了第一家专注于深度学习和医学的公司Enlitic，并担任全球最大机器学习公司的总裁兼首席科学家。 社区，卡格尔。 他与 Rachel Thomas 博士是 fast.ai 的联合创始人，该组织构建了本书所基于的课程。\n",
    "\n",
    "有时，你会在侧边栏中直接听到我们的声音，例如 Jeremy 的以下内容："
   ]
  },
  {
   "cell_type": "markdown",
   "metadata": {},
   "source": [
    "> J：大家好，我是杰里米！ 你可能有兴趣知道我没有接受过任何正规的技术教育。 我完成了哲学学士学位，但成绩并不好。 我对做实际项目而不是理论研究更感兴趣，所以我在大学期间在一家名为麦肯锡公司的管理咨询公司全职工作。 如果你是一个宁愿亲自动手建造东西也不愿花数年学习抽象概念的人，那么你就会明白我的想法！ 请留意我的侧边栏，找到最适合数学或正式技术背景较少的人（即像我这样的人）的信息……"
   ]
  },
  {
   "cell_type": "markdown",
   "metadata": {},
   "source": [
    "另一方面，西尔万对正规技术教育了解很多。 事实上，他已经编写了10本数学教科书，涵盖了整个法国高级数学课程！"
   ]
  },
  {
   "cell_type": "markdown",
   "metadata": {},
   "source": [
    "> S：与 Jeremy 不同，我并没有花费很多年的时间来编码和应用机器学习算法。 相反，我最近通过观看 Jeremy 的 fast.ai 课程视频进入了机器学习世界。 因此，如果你没有打开过终端并在命令行中编写过命令，那么你就会明白我的想法！ 请留意我的侧边栏，找到最适合具有更多数学或正式技术背景但现实世界编码经验较少的人的信息，即像我这样的人......"
   ]
  },
  {
   "cell_type": "markdown",
   "metadata": {},
   "source": [
    "fast.ai 课程已被来自世界各地、各行各业的数十万名学生学习。 Sylvain 是 Jeremy 见过的课程中最令人印象深刻的学生，这促使他加入 fast.ai，然后与 Jeremy 一起成为 fastai 软件库的合著者。\n",
    "\n",
    "所有这一切意味着我们之间拥有两全其美的优势：人们比其他人更了解该软件，因为他们编写了该软件； 数学专家、编码和机器学习专家； 他们也了解作为数学领域的相对局外人以及编码和机器学习领域的相对局外人的感受。\n",
    "\n",
    "看过体育的人都知道，如果有一个两人解说组，那么还需要第三个人来做“特别解说”。 我们的特约评论员是亚历克西斯·加拉格尔。 Alexis 拥有非常多元化的背景：他曾是数学生物学研究员、剧本作家、即兴表演者、麦肯锡顾问（就像 Jeremy！）、Swift 程序员和首席技术官。"
   ]
  },
  {
   "cell_type": "markdown",
   "metadata": {},
   "source": [
    "> A：我决定是时候学习一下人工智能的东西了！ 毕竟，我已经尝试了几乎所有其他方法……但我确实没有构建机器学习模型的背景。 不过……这能有多难呢？ 我将像你一样通过这本书进行学习。 请留意我的侧边栏，了解我发现对我的旅程有帮助的学习技巧，希望你也会发现有帮助。"
   ]
  },
  {
   "cell_type": "markdown",
   "metadata": {},
   "source": [
    "## 如何学习深度学习"
   ]
  },
  {
   "cell_type": "markdown",
   "metadata": {},
   "source": [
    "哈佛大学教授戴维·珀金斯 (David Perkins) 着有《让学习更完整》(Jossey-Bass)，他对教学有很多话要说。 基本思想是教授*整个游戏*。 这意味着，如果你教棒球，你首先要带人们去看棒球比赛或让他们参加比赛。 你不会教他们如何从头开始缠绕麻线来制作棒球，抛物线的物理原理，或者球在球棒上的摩擦系数。\n",
    "\n",
    "哥伦比亚大学数学博士、前布朗大学教授和 K-12 数学教师 Paul Lockhart 在颇具影响力的[文章](https://www.maa.org/external_archive/devlin/LockhartsLament.pdf)“一位数学家的哀叹”中想象 这是一个噩梦般的世界，音乐和艺术的教学方式与数学的教学方式一样。 孩子们必须花费十多年时间掌握乐谱和理论，并在课程中将乐谱转换成不同的调，否则不允许他们听或演奏音乐。 在艺术课上，学生们学习颜色和涂抹器，但直到上大学才允许真正绘画。 听起来很荒谬吗？ 这就是数学的教学方式——我们要求学生花数年时间死记硬背，学习枯燥、脱节的“基础知识”，我们声称这些知识将在他们大多数人退出该学科很久之后得到回报。\n",
    "\n",
    "不幸的是，这就是许多深度学习教学资源的起点——要求学习者遵循 Hessian 矩阵的定义和损失函数的泰勒近似定理，而没有给出实际工作代码的示例。 我们不是在敲微积分。 我们热爱微积分，Sylvain 甚至在大学里教授过微积分，但我们认为这不是学习深度学习的最佳起点！\n",
    "\n",
    "在深度学习中，如果你有动力修复模型以使其做得更好，那确实会有所帮助。 那就是你开始学习相关理论的时候。 但首先你需要有模型。 我们几乎通过真实的例子来教授所有内容。 当我们构建这些示例时，我们会越来越深入，我们将向你展示如何使你的项目变得越来越好。 这意味着你将在上下文中逐渐学习所需的所有理论基础，这样你就会明白它为什么重要以及它是如何工作的。\n",
    "\n",
    "所以，这是我们对你的承诺。 在本书中，我们将遵循以下原则：\n",
    "\n",
    "- 教授*整个游戏*。 我们将首先展示如何使用完整、有效、非常有用、最先进的深度学习网络，并使用简单、富有表现力的工具来解决现实世界的问题。 然后我们将逐渐深入了解这些工具是如何制造的，以及制造这些工具的工具是如何制造的，等等......\n",
    "- 始终通过示例进行教学。 我们将确保你可以直观地理解上下文和目的，而不是从代数符号操作开始。\n",
    "- 尽可能简化。 我们花了数年时间构建工具和教学方法，使以前复杂的主题变得非常简单。\n",
    "- 消除障碍。 到目前为止，深度学习一直是一个非常独特的游戏。 我们正在将其开放，并确保每个人都可以玩。"
   ]
  },
  {
   "cell_type": "markdown",
   "metadata": {},
   "source": [
    "深度学习最难的部分是手工的：你如何知道你是否有足够的数据，数据的格式是否正确，你的模型是否训练正确，如果没有，你应该做什么？ 这就是为什么我们相信边做边学。 与基本数据科学技能一样，深度学习只能通过实践经验才能变得更好。 试图在理论上花费太多时间可能会适得其反。 关键是只编码并尝试解决问题：当你有背景和动机时，理论可以稍后出现。\n",
    "\n",
    "有时候，旅途会感到艰难。 你感觉被困住的时候。 不要放弃！ 倒回这本书，找到你绝对没有被卡住的最后一点，然后从那里慢慢地阅读，找到第一个不清楚的地方。 然后自己尝试一些代码实验，并通过谷歌搜索更多关于你遇到的问题的教程 - 通常你会发现材料上的一些不同角度可能有助于解决问题。 另外，第一次阅读时不理解所有内容（尤其是代码）是正常的。 在继续之前尝试连续理解材料有时会很困难。 有时候，当你从未来的部分中获得更多背景信息，从更大的视野中获得更多背景信息后，事情就会水到渠成。 因此，如果你确实在某个部分上遇到困难，请尝试继续前进并记下以便稍后再回来查看。\n",
    "\n",
    "请记住，你不需要任何特定的学术背景即可在深度学习方面取得成功。 许多重要的突破都是由没有博士学位的人在研究和工业领域取得的，例如[“使用深度卷积生成对抗网络的无监督表示学习”](https://arxiv.org/abs/1511.06434)——最有影响力的论文之一 过去十年的文章——被引用超过 5,000 次，由亚历克·雷德福 (Alec Radford) 在读本科时撰写。 即使在特斯拉，他们正在努力解决制造自动驾驶汽车的极其艰巨的挑战，首席执行官[埃隆·马斯克说](https://twitter.com/elonmusk/status/1224089444963311616)：\n",
    "\n",
    "> ：绝对不需要博士学位。 重要的是对人工智能的深刻理解以及以实际有用的方式实现神经网络的能力（后一点才是真正困难的地方）。 不在乎你是否高中毕业。"
   ]
  },
  {
   "cell_type": "markdown",
   "metadata": {},
   "source": [
    "然而，要成功，你需要做的是将本书中学到的知识应用到个人项目中，并始终坚持下去。"
   ]
  },
  {
   "cell_type": "markdown",
   "metadata": {},
   "source": [
    "### 你的项目和你的心态"
   ]
  },
  {
   "cell_type": "markdown",
   "metadata": {},
   "source": [
    "无论你是想通过叶子图片识别植物是否患病、自动生成编织图案、通过 X 射线诊断结核病，还是确定浣熊何时使用你的猫门，我们都会让你在你的机器上使用深度学习 尽快解决自己的问题（通过其他人的预先训练的模型），然后逐步深入研究更多细节。 在下一章的前 30 分钟内，你将学习如何使用深度学习以最先进的精度解决你自己的问题！ （如果你渴望立即编码，请直接跳过这里。）有一个有害的神话，你需要拥有 Google 大小的计算资源和数据集才能进行深度学习 ，但这不是真的。\n",
    "\n",
    "那么，什么样的任务才能构成好的测试用例呢？ 你可以训练你的模型来区分毕加索和莫奈的画作，或者挑选出你女儿的照片而不是你儿子的照片。 专注于你的爱好和激情会有所帮助——为自己设定四个或五个小项目，而不是努力解决一个大问题，当你开始时，往往会效果更好。 由于很容易陷入困境，过早雄心勃勃往往会适得其反。 然后，一旦掌握了基础知识，就努力完成一些让你真正感到自豪的事情！"
   ]
  },
  {
   "cell_type": "markdown",
   "metadata": {},
   "source": [
    "> J：深度学习几乎可以解决任何问题。 例如，我的第一家初创公司是一家名为 FastMail 的公司，该公司于 1999 年推出时提供增强的电子邮件服务（至今仍然如此）。 2002 年，我将其设置为使用深度学习的原始形式（单层神经网络）来帮助对电子邮件进行分类并阻止客户接收垃圾邮件。"
   ]
  },
  {
   "cell_type": "markdown",
   "metadata": {},
   "source": [
    "擅长深度学习的人的共同性格特征包括顽皮和好奇心。 已故物理学家理查德·费曼（Richard Feynman）是我们期望在深度学习方面表现出色的人的一个例子：他对亚原子粒子运动的理解的发展来自于他对板块在空气中旋转时如何摆动的兴趣。"
   ]
  },
  {
   "cell_type": "markdown",
   "metadata": {},
   "source": [
    "现在让我们重点关注你将学到的内容，从软件开始。"
   ]
  },
  {
   "cell_type": "markdown",
   "metadata": {},
   "source": [
    "## 软件：PyTorch、fastai 和 Jupyter"
   ]
  },
  {
   "cell_type": "markdown",
   "metadata": {},
   "source": [
    "（以及为什么这不重要）"
   ]
  },
  {
   "cell_type": "markdown",
   "metadata": {},
   "source": [
    "我们已经使用数十种不同的软件包和许多不同的编程语言完成了数百个机器学习项目。 在 fast.ai，我们使用当今使用的大多数主要深度学习和机器学习包编写了课程。 PyTorch 于 2017 年问世后，我们花了一千多个小时对其进行测试，然后决定将其用于未来的课程、软件开发和研究。 从那时起，PyTorch 已成为世界上增长最快的深度学习库，并且已被用于顶级会议上的大多数研究论文。 这通常是工业使用的领先指标，因为这些纸张最终会在商业产品和服务中使用。 我们发现 PyTorch 是最灵活、最具表现力的深度学习库。 它不会为了简单性而牺牲速度，而是两者兼而有之。\n",
    "\n",
    "PyTorch 最适合作为低级基础库，为更高级别的功能提供基本操作。 fastai 库是在 PyTorch 之上添加此高级功能的最流行的库。 它也特别适合本书的目的，因为它在提供深层软件架构方面是独一无二的（甚至有一篇关于这种分层的[同行评审的学术论文](https://arxiv.org/abs/2002.04688) 应用程序编程接口）。 在本书中，随着我们越来越深入地了解深度学习的基础，我们也将越来越深入地了解fastai的各个层次。 本书涵盖了 fastai 库的第二版，该版本是从头开始重写的，提供了许多独特的功能。"
   ]
  },
  {
   "cell_type": "markdown",
   "metadata": {},
   "source": [
    "然而，你学习什么软件并不重要，因为学习从一个库切换到另一个库只需要几天的时间。 真正重要的是正确学习深度学习基础和技术。 我们的重点是使用能够清楚表达你需要学习的概念的代码。 在我们教授高级概念的地方，我们将使用高级 fastai 代码。 当我们教授低级概念时，我们将使用低级 PyTorch，甚至纯 Python 代码。\n",
    "\n",
    "如果感觉现在新的深度学习库正在快速出现，那么你需要为未来几个月和几年更快的变化做好准备。 随着越来越多的人进入这个领域，他们会带来更多的技能和想法，并尝试更多的东西。 你应该假设你今天学习的任何特定库和软件将在一两年内过时。 想想网络编程世界中一直发生的库和技术堆栈的变化数量——这是一个比深度学习成熟得多、发展缓慢的领域。 我们坚信，学习的重点需要放在理解底层技术以及如何在实践中应用它们，以及如何在新工具和技术发布时快速建立专业知识。"
   ]
  },
  {
   "cell_type": "markdown",
   "metadata": {},
   "source": [
    "在本书结束时，你将了解 fastai 中的几乎所有代码（以及 PyTorch 的大部分代码），因为在每一章中，我们都会深入挖掘，以准确地向你展示我们构建和训练时发生的情况 我们的模型。 这意味着你将学习现代深度学习中使用的最重要的最佳实践，不仅仅是如何使用它们，还有它们的实际工作原理和实施方式。 如果你想在另一个框架中使用这些方法，你将拥有所需的知识（如果需要）。\n",
    "\n",
    "由于学习深度学习最重要的是编写代码和实验，因此拥有一个用于实验代码的优秀平台非常重要。 最流行的编程实验平台称为 Jupyter。 这就是我们将在本书中使用的内容。 我们将向你展示如何使用 Jupyter 来训练和试验模型，并反思数据预处理和模型开发管道的每个阶段。 [Jupyter Notebook](https://jupyter.org/) 是使用 Python 进行数据科学的最流行工具，这是有充分理由的。 它功能强大、灵活且易于使用。 我们认为你会喜欢它！"
   ]
  },
  {
   "cell_type": "markdown",
   "metadata": {},
   "source": [
    "让我们在实践中看看它并训练我们的第一个模型。"
   ]
  },
  {
   "cell_type": "markdown",
   "metadata": {},
   "source": [
    "## 你的第一个模型"
   ]
  },
  {
   "cell_type": "markdown",
   "metadata": {},
   "source": [
    "正如我们之前所说，在解释它们为何有效之前，我们将教你如何做事。 按照这种自上而下的方法，我们将首先实际训练图像分类器以几乎 100% 的准确度识别狗和猫。 要训练该模型并运行我们的实验，你需要进行一些初始设置。 别担心，它并不像看起来那么难。"
   ]
  },
  {
   "cell_type": "markdown",
   "metadata": {},
   "source": [
    "> s：不要跳过设置部分，即使它一开始看起来很吓人，特别是如果你很少或没有使用终端或命令行等东西的经验。 其中大部分实际上是不必要的，你会发现只需使用常用的网络浏览器即可设置最简单的服务器。 为了学习，在阅读本书的同时进行自己的实验是至关重要的。"
   ]
  },
  {
   "cell_type": "markdown",
   "metadata": {},
   "source": [
    "### 获取 GPU 深度学习服务器"
   ]
  },
  {
   "cell_type": "markdown",
   "metadata": {},
   "source": [
    "要完成本书中的几乎所有内容，你需要使用配备 NVIDIA GPU 的计算机（不幸的是，主要深度学习库并不完全支持其他品牌的 GPU）。 但是，我们不建议你购买； 事实上，即使你已经拥有，我们也不建议你立即使用它！ 设置计算机需要时间和精力，而你现在希望将所有精力都集中在深度学习上。 因此，我们建议你租用一台已经预装了你所需的一切并准备就绪的计算机。 使用时的费用可低至每小时 0.25 美元，有些选项甚至是免费的。"
   ]
  },
  {
   "cell_type": "markdown",
   "metadata": {},
   "source": [
    "> 术语：图形处理单元 (GPU)：也称为_显卡_。 计算机中的一种特殊处理器，可以同时处理数千个单一任务，专门设计用于在计算机上显示 3D 环境来玩游戏。 这些相同的基本任务与神经网络的工作非常相似，因此 GPU 运行神经网络的速度比普通 CPU 快数百倍。 所有现代计算机都包含 GPU，但很少有计算机包含深度学习所需的正确类型的 GPU。"
   ]
  },
  {
   "cell_type": "markdown",
   "metadata": {},
   "source": [
    "本书使用的 GPU 服务器的最佳选择会随着时间的推移、公司的更替和价格的变化而变化。 我们在[本书的网站](https://book.fast.ai/) 上保留了推荐选项的列表，因此请立即访问该网站并按照说明连接到 GPU 深度学习服务器。 不用担心，在大多数平台上设置只需大约两分钟，许多平台甚至不需要任何付款，甚至不需要信用卡即可开始。\n",
    "\n",
    "> 答：我的两点意见：注意这个建议！ 如果你喜欢计算机，你会很想设置自己的计算机。 谨防！ 这是可行的，但令人惊讶地复杂且分散注意力。 这本书没有命名为“你想了解的有关 Ubuntu 系统管理、NVIDIA 驱动程序安装、apt-get、conda、pip 和 Jupyter 笔记本配置的一切”是有充分理由的。 那将是一本自己的书。 在工作中设计和部署我们的生产机器学习基础设施后，我可以证明它令人满意，但它与建模无关，就像维护飞机与驾驶飞机一样。\n",
    "\n",
    "网站上显示的每个选项都包含一个教程； 完成本教程后，你将看到一个类似于 <<notebook_init>> 的屏幕。"
   ]
  },
  {
   "cell_type": "markdown",
   "metadata": {},
   "source": [
    "<img alt=\"Initial view of Jupyter Notebook\" width=\"658\" caption=\"Initial view of Jupyter Notebook\" id=\"notebook_init\" src=\"images/att_00057.png\">"
   ]
  },
  {
   "cell_type": "markdown",
   "metadata": {},
   "source": [
    "你现在已准备好运行你的第一个 Jupyter 笔记本！"
   ]
  },
  {
   "cell_type": "markdown",
   "metadata": {},
   "source": [
    "> 术语：Jupyter Notebook：一款软件，允许你在单个交互式文档中包含格式化文本、代码、图像、视频等。 Jupyter 因其在众多学术领域和工业界的广泛使用和巨大影响而获得了软件领域的最高荣誉——ACM 软件系统奖。 Jupyter Notebook 是数据科学家最广泛使用的用于开发深度学习模型并与之交互的软件。"
   ]
  },
  {
   "cell_type": "markdown",
   "metadata": {},
   "source": [
    "### 运行你的第一个笔记本"
   ]
  },
  {
   "cell_type": "markdown",
   "metadata": {},
   "source": [
    "这些笔记本按章节进行标记，然后按笔记本编号进行标记，因此它们的顺序与本书中的顺序相同。 因此，你将看到列出的第一个笔记本就是你现在需要使用的笔记本。 你将使用此笔记本来训练可以识别狗和猫照片的模型。 为此，你将下载狗和猫照片的_数据集_，并使用它来_训练模型_。 数据集只是一堆数据——它可以是图像、电子邮件、财务指标、声音或其他任何内容。 有许多免费提供的数据集适合训练模型。 其中许多数据集是由学者创建的，以帮助推进研究，许多数据集可用于竞赛（数据科学家可以在竞赛中竞争，看看谁拥有最准确的模型！），还有一些是其他过程的副产品（例如 作为财务申报）。"
   ]
  },
  {
   "cell_type": "markdown",
   "metadata": {},
   "source": [
    "> 注意：完整笔记本和精简笔记本：有两个文件夹包含不同版本的笔记本。 _full_ 文件夹包含用于创建你现在正在阅读的书籍的确切笔记本，以及所有散文和输出。 _stripped_ 版本具有相同的标题和代码单元，但所有输出和散文已被删除。 阅读完本书的一部分后，我们建议你关闭书本并浏览剥离的笔记本，看看你是否可以在执行之前弄清楚每个单元格将显示什么。 还要尝试回忆一下代码所演示的内容。"
   ]
  },
  {
   "cell_type": "markdown",
   "metadata": {},
   "source": [
    "要打开笔记本，只需单击它即可。 笔记本将打开，它看起来像 <<jupyter>> （请注意，不同平台之间的细节可能略有差异；你可以忽略这些差异）。"
   ]
  },
  {
   "cell_type": "markdown",
   "metadata": {},
   "source": [
    "<img alt=\"An example of notebook\" width=\"700\" caption=\"A Jupyter notebook\" src=\"images/0_jupyter.png\" id=\"jupyter\"/>"
   ]
  },
  {
   "cell_type": "markdown",
   "metadata": {},
   "source": [
    "笔记本由_单元格_组成。 单元格主要有两种类型：\n",
    "\n",
    "- 包含格式化文本、图像等的单元格。 它们使用一种名为 *markdown* 的格式，你很快就会了解它。\n",
    "- 包含可以执行的代码的单元格和输出将立即出现在下面（可以是纯文本、表格、图像、动画、声音，甚至是交互式应用程序）。\n",
    "\n",
    "Jupyter 笔记本可以处于两种模式之一：编辑模式或命令模式。 在编辑模式下，在键盘上键入内容以通常的方式将字母输入到单元格中。 但是，在命令模式下，你不会看到任何闪烁的光标，并且键盘上的每个按键都有特殊的功能。\n",
    "\n",
    "在继续之前，请按键盘上的 Escape 键切换到命令模式（如果你已经处于命令模式，则此操作不会执行任何操作，因此请立即按它以防万一）。 要查看所有可用功能的完整列表，请按 H； 按 Esc 键可删除此帮助屏幕。 请注意，在命令模式下，与大多数程序不同，命令不需要你按住 Control、Alt 或类似键 - 你只需按所需的字母键即可。\n",
    "\n",
    "你可以通过按 C 来复制单元格（需要首先选择单元格，并用其周围的轮廓表示；如果尚未选择，请单击它一次）。 然后按 V 粘贴它的副本。"
   ]
  },
  {
   "cell_type": "markdown",
   "metadata": {},
   "source": [
    "单击以“# CLICK ME”行开头的单元格将其选中。 该行中的第一个字符表示接下来是 Python 中的注释，因此在执行单元格时会忽略它。 不管你信不信，细胞的其余部分是一个完整的系统，用于创建和训练最先进的模型来识别猫和狗。 那么，我们现在就来训练它吧！ 为此，只需按键盘上的 Shift-Enter，或按工具栏上的“播放”按钮即可。 然后等待几分钟，此时会发生以下情况：\n",
    "\n",
    "1. 一个名为 [Oxford-IIIT Pet Dataset](http://www.robots.ox.ac.uk/~vgg/data/pets/) 的数据集包含来自 37 个不同品种的 7,349 张猫和狗的图像。 从 fast.ai 数据集集合下载到你正在使用的 GPU 服务器，然后进行提取。\n",
    "2. 将从互联网下载已使用竞赛获胜模型对 130 万张图像进行训练的“预训练模型”。\n",
    "3. 预训练模型将利用迁移学习的最新进展进行“微调”，以创建专门用于识别狗和猫的模型。\n",
    "\n",
    "前两个步骤只需在 GPU 服务器上运行一次。 如果再次运行该单元，它将使用已下载的数据集和模型，而不是再次下载它们。 让我们看一下单元格的内容和结果（<<first_training>>）："
   ]
  },
  {
   "cell_type": "code",
   "execution_count": 3,
   "metadata": {},
   "outputs": [
    {
     "data": {
      "text/html": [
       "\n",
       "<style>\n",
       "    /* Turns off some styling */\n",
       "    progress {\n",
       "        /* gets rid of default border in Firefox and Opera. */\n",
       "        border: none;\n",
       "        /* Needs to be in here for Safari polyfill so background images work as expected. */\n",
       "        background-size: auto;\n",
       "    }\n",
       "    progress:not([value]), progress:not([value])::-webkit-progress-bar {\n",
       "        background: repeating-linear-gradient(45deg, #7e7e7e, #7e7e7e 10px, #5c5c5c 10px, #5c5c5c 20px);\n",
       "    }\n",
       "    .progress-bar-interrupted, .progress-bar-interrupted::-webkit-progress-bar {\n",
       "        background: #F44336;\n",
       "    }\n",
       "</style>\n"
      ],
      "text/plain": [
       "<IPython.core.display.HTML object>"
      ]
     },
     "metadata": {},
     "output_type": "display_data"
    },
    {
     "data": {
      "text/html": [
       "\n",
       "    <div>\n",
       "      <progress value='811712512' class='' max='811706944' style='width:300px; height:20px; vertical-align: middle;'></progress>\n",
       "      100.00% [811712512/811706944 13:22&lt;00:00]\n",
       "    </div>\n",
       "    "
      ],
      "text/plain": [
       "<IPython.core.display.HTML object>"
      ]
     },
     "metadata": {},
     "output_type": "display_data"
    },
    {
     "name": "stderr",
     "output_type": "stream",
     "text": [
      "Downloading: \"https://download.pytorch.org/models/resnet34-b627a593.pth\" to /home/amaozhao/.cache/torch/hub/checkpoints/resnet34-b627a593.pth\n",
      "100%|██████████| 83.3M/83.3M [00:40<00:00, 2.18MB/s]\n"
     ]
    },
    {
     "data": {
      "text/html": [
       "\n",
       "<style>\n",
       "    /* Turns off some styling */\n",
       "    progress {\n",
       "        /* gets rid of default border in Firefox and Opera. */\n",
       "        border: none;\n",
       "        /* Needs to be in here for Safari polyfill so background images work as expected. */\n",
       "        background-size: auto;\n",
       "    }\n",
       "    progress:not([value]), progress:not([value])::-webkit-progress-bar {\n",
       "        background: repeating-linear-gradient(45deg, #7e7e7e, #7e7e7e 10px, #5c5c5c 10px, #5c5c5c 20px);\n",
       "    }\n",
       "    .progress-bar-interrupted, .progress-bar-interrupted::-webkit-progress-bar {\n",
       "        background: #F44336;\n",
       "    }\n",
       "</style>\n"
      ],
      "text/plain": [
       "<IPython.core.display.HTML object>"
      ]
     },
     "metadata": {},
     "output_type": "display_data"
    },
    {
     "data": {
      "text/html": [
       "<table border=\"1\" class=\"dataframe\">\n",
       "  <thead>\n",
       "    <tr style=\"text-align: left;\">\n",
       "      <th>epoch</th>\n",
       "      <th>train_loss</th>\n",
       "      <th>valid_loss</th>\n",
       "      <th>error_rate</th>\n",
       "      <th>time</th>\n",
       "    </tr>\n",
       "  </thead>\n",
       "  <tbody>\n",
       "    <tr>\n",
       "      <td>0</td>\n",
       "      <td>0.186636</td>\n",
       "      <td>0.015332</td>\n",
       "      <td>0.006089</td>\n",
       "      <td>08:39</td>\n",
       "    </tr>\n",
       "  </tbody>\n",
       "</table>"
      ],
      "text/plain": [
       "<IPython.core.display.HTML object>"
      ]
     },
     "metadata": {},
     "output_type": "display_data"
    },
    {
     "data": {
      "text/html": [
       "\n",
       "<style>\n",
       "    /* Turns off some styling */\n",
       "    progress {\n",
       "        /* gets rid of default border in Firefox and Opera. */\n",
       "        border: none;\n",
       "        /* Needs to be in here for Safari polyfill so background images work as expected. */\n",
       "        background-size: auto;\n",
       "    }\n",
       "    progress:not([value]), progress:not([value])::-webkit-progress-bar {\n",
       "        background: repeating-linear-gradient(45deg, #7e7e7e, #7e7e7e 10px, #5c5c5c 10px, #5c5c5c 20px);\n",
       "    }\n",
       "    .progress-bar-interrupted, .progress-bar-interrupted::-webkit-progress-bar {\n",
       "        background: #F44336;\n",
       "    }\n",
       "</style>\n"
      ],
      "text/plain": [
       "<IPython.core.display.HTML object>"
      ]
     },
     "metadata": {},
     "output_type": "display_data"
    },
    {
     "data": {
      "text/html": [
       "\n",
       "    <div>\n",
       "      <progress value='0' class='' max='1' style='width:300px; height:20px; vertical-align: middle;'></progress>\n",
       "      0.00% [0/1 00:00&lt;?]\n",
       "    </div>\n",
       "    \n",
       "<table border=\"1\" class=\"dataframe\">\n",
       "  <thead>\n",
       "    <tr style=\"text-align: left;\">\n",
       "      <th>epoch</th>\n",
       "      <th>train_loss</th>\n",
       "      <th>valid_loss</th>\n",
       "      <th>error_rate</th>\n",
       "      <th>time</th>\n",
       "    </tr>\n",
       "  </thead>\n",
       "  <tbody>\n",
       "  </tbody>\n",
       "</table><p>\n",
       "\n",
       "    <div>\n",
       "      <progress value='60' class='' max='92' style='width:300px; height:20px; vertical-align: middle;'></progress>\n",
       "      65.22% [60/92 08:50&lt;04:42 0.0704]\n",
       "    </div>\n",
       "    "
      ],
      "text/plain": [
       "<IPython.core.display.HTML object>"
      ]
     },
     "metadata": {},
     "output_type": "display_data"
    }
   ],
   "source": [
    "#id first_training\n",
    "#caption Results from the first training\n",
    "# CLICK ME\n",
    "from fastai.vision.all import *\n",
    "path = untar_data(URLs.PETS)/'images'\n",
    "\n",
    "def is_cat(x): return x[0].isupper()\n",
    "dls = ImageDataLoaders.from_name_func(\n",
    "    path, get_image_files(path), valid_pct=0.2, seed=42,\n",
    "    label_func=is_cat, item_tfms=Resize(224))\n",
    "\n",
    "learn = vision_learner(dls, resnet34, metrics=error_rate)\n",
    "learn.fine_tune(1)"
   ]
  },
  {
   "cell_type": "markdown",
   "metadata": {},
   "source": [
    "你可能不会看到与书中完全相同的结果。 训练模型中涉及很多小的随机变化来源。 然而，在此示例中，我们通常看到错误率远低于 0.02。"
   ]
  },
  {
   "cell_type": "markdown",
   "metadata": {},
   "source": [
    "> 重要：训练时间：根据你的网络速度，下载预训练模型和数据集可能需要几分钟。 运行“fine_tune”可能需要一分钟左右的时间。 本书中的模型通常需要几分钟的时间来训练，你自己的模型也是如此，因此最好想出好的技术来充分利用这段时间。 例如，在模型训练时继续阅读下一节，或者打开另一个笔记本并用它进行一些编码实验。"
   ]
  },
  {
   "cell_type": "markdown",
   "metadata": {},
   "source": [
    "### 侧边栏：本书是用 Jupyter Notebooks 编写的"
   ]
  },
  {
   "cell_type": "markdown",
   "metadata": {},
   "source": [
    "我们使用 Jupyter 笔记本编写了这本书，因此对于本书中的几乎每个图表、表格和计算，我们都会向你展示自行复制所需的确切代码。 这就是为什么在本书中，你经常会看到一些代码，后面紧跟着表格、图片或只是一些文本。 如果你访问[本书的网站](https://book.fast.ai)，你会找到所有代码，并且你可以尝试自己运行和修改每个示例。"
   ]
  },
  {
   "cell_type": "markdown",
   "metadata": {},
   "source": [
    "你刚刚看到了输出表格的单元格在书中的样子。 以下是输出文本的单元格的示例："
   ]
  },
  {
   "cell_type": "code",
   "execution_count": null,
   "metadata": {},
   "outputs": [
    {
     "data": {
      "text/plain": [
       "2"
      ]
     },
     "execution_count": null,
     "metadata": {},
     "output_type": "execute_result"
    }
   ],
   "source": [
    "1+1"
   ]
  },
  {
   "cell_type": "markdown",
   "metadata": {},
   "source": [
    "Jupyter 将始终打印或显示最后一行的结果（如果有）。 例如，以下是输出图像的单元格的示例："
   ]
  },
  {
   "cell_type": "code",
   "execution_count": null,
   "metadata": {},
   "outputs": [
    {
     "data": {
      "image/png": "[encoded data removed]",
      "text/plain": [
       "<PIL.Image.Image image mode=RGB size=151x192 at 0x7EFCAE0AFFD0>"
      ]
     },
     "execution_count": null,
     "metadata": {},
     "output_type": "execute_result"
    }
   ],
   "source": [
    "img = PILImage.create(image_cat())\n",
    "img.to_thumb(192)"
   ]
  },
  {
   "cell_type": "markdown",
   "metadata": {},
   "source": [
    "### 结束侧边栏"
   ]
  },
  {
   "cell_type": "markdown",
   "metadata": {},
   "source": [
    "那么，我们怎么知道这个模型好不好呢？ 在表的最后一列中，你可以看到错误率，即被错误识别的图像的比例。 错误率作为我们的指标——我们对模型质量的衡量标准，选择直观且易于理解。 正如你所看到的，尽管训练时间只有几秒钟（不包括一次性下载数据集和预训练模型），但该模型几乎是完美的。 事实上，你已经达到的准确性远远好于 10 年前任何人所达到的精度！\n",
    "\n",
    "最后，让我们检查一下这个模型是否真的有效。 去拍一张狗或猫的照片； 如果你手头没有，只需搜索 Google 图片并下载在那里找到的图片即可。 现在执行定义了“uploader”的单元。 它将输出一个可以单击的按钮，以便你可以选择要分类的图像："
   ]
  },
  {
   "cell_type": "code",
   "execution_count": null,
   "metadata": {},
   "outputs": [
    {
     "data": {
      "application/vnd.jupyter.widget-view+json": {
       "model_id": "2aada8621093499db32f532303c17c1e",
       "version_major": 2,
       "version_minor": 0
      },
      "text/plain": [
       "FileUpload(value={}, description='Upload')"
      ]
     },
     "metadata": {},
     "output_type": "display_data"
    }
   ],
   "source": [
    "#hide_output\n",
    "uploader = widgets.FileUpload()\n",
    "uploader"
   ]
  },
  {
   "cell_type": "markdown",
   "metadata": {},
   "source": [
    "<img alt=\"An upload button\" width=\"159\" id=\"upload\" src=\"images/att_00008.png\">"
   ]
  },
  {
   "cell_type": "markdown",
   "metadata": {},
   "source": [
    "现在你可以将上传的文件传递给模型。 确保它是单只狗或猫的清晰照片，而不是线条画、卡通或类似的照片。 笔记本会告诉你它认为自己是狗还是猫，以及它的自信程度。 希望你会发现你的模型做得很好："
   ]
  },
  {
   "cell_type": "code",
   "execution_count": null,
   "metadata": {
    "hide_input": false
   },
   "outputs": [],
   "source": [
    "#hide\n",
    "# For the book, we can't actually click an upload button, so we fake it\n",
    "uploader = SimpleNamespace(data = ['images/chapter1_cat_example.jpg'])"
   ]
  },
  {
   "cell_type": "code",
   "execution_count": null,
   "metadata": {},
   "outputs": [
    {
     "data": {
      "text/html": [],
      "text/plain": [
       "<IPython.core.display.HTML object>"
      ]
     },
     "metadata": {},
     "output_type": "display_data"
    },
    {
     "name": "stdout",
     "output_type": "stream",
     "text": [
      "Is this a cat?: True.\n",
      "Probability it's a cat: 1.000000\n"
     ]
    }
   ],
   "source": [
    "img = PILImage.create(uploader.data[0])\n",
    "is_cat,_,probs = learn.predict(img)\n",
    "print(f\"Is this a cat?: {is_cat}.\")\n",
    "print(f\"Probability it's a cat: {probs[1].item():.6f}\")"
   ]
  },
  {
   "cell_type": "markdown",
   "metadata": {},
   "source": [
    "恭喜你完成了你的第一个分类器！\n",
    "\n",
    "但是，这是什么意思？ 你实际上做了什么？ 为了解释这一点，让我们再次缩小视野以了解全局。"
   ]
  },
  {
   "cell_type": "markdown",
   "metadata": {},
   "source": [
    "### 什么是机器学习？"
   ]
  },
  {
   "cell_type": "markdown",
   "metadata": {},
   "source": [
    "你的分类器是一个深度学习模型。 正如已经提到的，深度学习模型使用神经网络，它最初可以追溯到 20 世纪 50 年代，并且由于最近的进步而变得非常强大。\n",
    "\n",
    "另一个关键的背景是，深度学习只是“机器学习”更一般学科中的一个现代领域。 要了解训练自己的分类模型时所做工作的本质，你不需要了解深度学习。 只需了解你的模型和训练过程如何作为一般适用于机器学习的概念的示例就足够了。\n",
    "\n",
    "所以在本节中，我们将描述什么是机器学习。 我们将研究关键概念，并展示如何将它们追溯到介绍它们的原始文章。\n",
    "\n",
    "*机器学习*与常规编程一样，是一种让计算机完成特定任务的方法。 但是我们如何使用常规编程来完成上一节中所做的事情：识别照片中的狗和猫？ 我们必须为计算机写下完成任务所需的确切步骤。\n",
    "\n",
    "通常，我们在编写程序时很容易写下完成任务的步骤。 我们只是考虑如果我们必须手动完成任务，我们会采取哪些步骤，然后将它们翻译成代码。 例如，我们可以编写一个对列表进行排序的函数。 一般来说，我们会编写一个类似于 <<basic_program>> 的函数（其中 *inputs* 可能是未排序的列表，而 *results* 是已排序的列表）。"
   ]
  },
  {
   "cell_type": "code",
   "execution_count": null,
   "metadata": {
    "hide_input": false
   },
   "outputs": [
    {
     "data": {
      "image/svg+xml": [
       "<?xml version=\"1.0\" encoding=\"UTF-8\" standalone=\"no\"?>\n",
       "<!DOCTYPE svg PUBLIC \"-//W3C//DTD SVG 1.1//EN\"\n",
       " \"http://www.w3.org/Graphics/SVG/1.1/DTD/svg11.dtd\">\n",
       "<!-- Generated by graphviz version 2.43.0 (0)\n",
       " -->\n",
       "<!-- Title: G Pages: 1 -->\n",
       "<svg width=\"285pt\" height=\"58pt\"\n",
       " viewBox=\"0.00 0.00 284.59 58.00\" xmlns=\"http://www.w3.org/2000/svg\" xmlns:xlink=\"http://www.w3.org/1999/xlink\">\n",
       "<g id=\"graph0\" class=\"graph\" transform=\"scale(1 1) rotate(0) translate(4 54)\">\n",
       "<title>G</title>\n",
       "<polygon fill=\"white\" stroke=\"transparent\" points=\"-4,4 -4,-54 280.59,-54 280.59,4 -4,4\"/>\n",
       "<!-- program -->\n",
       "<g id=\"node1\" class=\"node\">\n",
       "<title>program</title>\n",
       "<polygon fill=\"none\" stroke=\"black\" points=\"172.99,-50 104.99,-50 100.99,-46 100.99,0 168.99,0 172.99,-4 172.99,-50\"/>\n",
       "<polyline fill=\"none\" stroke=\"black\" points=\"168.99,-46 100.99,-46 \"/>\n",
       "<polyline fill=\"none\" stroke=\"black\" points=\"168.99,-46 168.99,0 \"/>\n",
       "<polyline fill=\"none\" stroke=\"black\" points=\"168.99,-46 172.99,-50 \"/>\n",
       "<text text-anchor=\"middle\" x=\"136.99\" y=\"-21.3\" font-family=\"Times,serif\" font-size=\"14.00\">program</text>\n",
       "</g>\n",
       "<!-- results -->\n",
       "<g id=\"node3\" class=\"node\">\n",
       "<title>results</title>\n",
       "<ellipse fill=\"none\" stroke=\"black\" cx=\"242.79\" cy=\"-25\" rx=\"33.6\" ry=\"18\"/>\n",
       "<text text-anchor=\"middle\" x=\"242.79\" y=\"-21.3\" font-family=\"Times,serif\" font-size=\"14.00\">results</text>\n",
       "</g>\n",
       "<!-- program&#45;&gt;results -->\n",
       "<g id=\"edge2\" class=\"edge\">\n",
       "<title>program&#45;&gt;results</title>\n",
       "<path fill=\"none\" stroke=\"black\" d=\"M173.14,-25C181.33,-25 190.15,-25 198.65,-25\"/>\n",
       "<polygon fill=\"black\" stroke=\"black\" points=\"198.79,-28.5 208.79,-25 198.79,-21.5 198.79,-28.5\"/>\n",
       "</g>\n",
       "<!-- inputs -->\n",
       "<g id=\"node2\" class=\"node\">\n",
       "<title>inputs</title>\n",
       "<ellipse fill=\"none\" stroke=\"black\" cx=\"32.5\" cy=\"-25\" rx=\"32.49\" ry=\"18\"/>\n",
       "<text text-anchor=\"middle\" x=\"32.5\" y=\"-21.3\" font-family=\"Times,serif\" font-size=\"14.00\">inputs</text>\n",
       "</g>\n",
       "<!-- inputs&#45;&gt;program -->\n",
       "<g id=\"edge1\" class=\"edge\">\n",
       "<title>inputs&#45;&gt;program</title>\n",
       "<path fill=\"none\" stroke=\"black\" d=\"M65.09,-25C73.11,-25 81.9,-25 90.47,-25\"/>\n",
       "<polygon fill=\"black\" stroke=\"black\" points=\"90.76,-28.5 100.76,-25 90.76,-21.5 90.76,-28.5\"/>\n",
       "</g>\n",
       "</g>\n",
       "</svg>\n"
      ],
      "text/plain": [
       "<graphviz.files.Source at 0x7efcac7fe710>"
      ]
     },
     "execution_count": null,
     "metadata": {},
     "output_type": "execute_result"
    }
   ],
   "source": [
    "#hide_input\n",
    "#caption A traditional program\n",
    "#id basic_program\n",
    "#alt Pipeline inputs, program, results\n",
    "gv('''program[shape=box3d width=1 height=0.7]\n",
    "inputs->program->results''')"
   ]
  },
  {
   "cell_type": "markdown",
   "metadata": {},
   "source": [
    "但要识别照片中的物体就有点棘手了； 当我们识别图片中的物体时，我们采取什么步骤？ 我们真的不知道，因为这一切都发生在我们的大脑中，而我们却没有意识到！\n",
    "\n",
    "早在 1949 年计算刚刚兴起时，一位名叫 Arthur Samuel 的 IBM 研究人员就开始研究一种不同的方法来让计算机完成任务，他称之为“机器学习”。 在 1962 年的经典文章《人工智能：自动化前沿》中，他写道："
   ]
  },
  {
   "cell_type": "markdown",
   "metadata": {},
   "source": [
    ">：为此类计算进行计算机编程充其量是一项艰巨的任务，主要不是因为计算机本身固有的复杂性，而是因为需要以最令人恼火的细节阐明该过程的每一步 。 正如任何程序员都会告诉你的那样，计算机是巨大的白痴，而不是巨大的大脑。"
   ]
  },
  {
   "cell_type": "markdown",
   "metadata": {},
   "source": [
    "他的基本想法是：不要告诉计算机解决问题所需的确切步骤，而是向计算机展示要解决的问题的示例，并让它自己弄清楚如何解决它。 结果证明这是非常有效的：到 1961 年，他的西洋跳棋程序已经学到了很多东西，甚至击败了康涅狄格州冠军！ 以下是他如何描述他的想法（来自上述同一篇文章）："
   ]
  },
  {
   "cell_type": "markdown",
   "metadata": {},
   "source": [
    ">：假设我们安排一些自动方法来测试任何当前权重分配在实际性能方面的有效性，并提供一种改变权重分配的机制，以便最大化性能。 我们不需要深入研究这样一个过程的细节，就可以看到它可以完全自动化，并看到这样编程的机器可以从其经验中“学习”。"
   ]
  },
  {
   "cell_type": "markdown",
   "metadata": {},
   "source": [
    "这个简短的声明中包含了许多强大的概念：\n",
    "\n",
    "- “权重分配”的想法\n",
    "- 每个权重分配都有一些“实际表现”\n",
    "- 要求有一种“自动方法”来测试该性能，\n",
    "- 需要一种“机制”（即另一个自动过程）来通过改变权重分配来提高性能\n",
    "\n",
    "让我们一一了解这些概念，以了解它们在实践中如何结合在一起。 首先，我们需要了解塞缪尔所说的“权重分配”是什么意思。\n",
    "\n",
    "权重只是变量，权重分配是这些变量值的特定选择。 程序的输入是其处理以产生结果的值，例如，将图像像素作为输入，并返回分类“狗”作为结果。 程序的权重分配是定义程序如何运行的其他值。\n",
    "\n",
    "由于它们会影响程序，因此它们在某种意义上是另一种输入，因此我们将更新 <<basic_program>> 中的基本图片并将其替换为 <<weight_assignment>> 以考虑到这一点。"
   ]
  },
  {
   "cell_type": "code",
   "execution_count": null,
   "metadata": {
    "hide_input": true
   },
   "outputs": [
    {
     "data": {
      "image/svg+xml": [
       "<?xml version=\"1.0\" encoding=\"UTF-8\" standalone=\"no\"?>\n",
       "<!DOCTYPE svg PUBLIC \"-//W3C//DTD SVG 1.1//EN\"\n",
       " \"http://www.w3.org/Graphics/SVG/1.1/DTD/svg11.dtd\">\n",
       "<!-- Generated by graphviz version 2.43.0 (0)\n",
       " -->\n",
       "<!-- Title: G Pages: 1 -->\n",
       "<svg width=\"296pt\" height=\"98pt\"\n",
       " viewBox=\"0.00 0.00 296.29 98.00\" xmlns=\"http://www.w3.org/2000/svg\" xmlns:xlink=\"http://www.w3.org/1999/xlink\">\n",
       "<g id=\"graph0\" class=\"graph\" transform=\"scale(1 1) rotate(0) translate(4 94)\">\n",
       "<title>G</title>\n",
       "<polygon fill=\"white\" stroke=\"transparent\" points=\"-4,4 -4,-94 292.29,-94 292.29,4 -4,4\"/>\n",
       "<!-- model -->\n",
       "<g id=\"node1\" class=\"node\">\n",
       "<title>model</title>\n",
       "<polygon fill=\"none\" stroke=\"black\" points=\"184.69,-70 116.69,-70 112.69,-66 112.69,-20 180.69,-20 184.69,-24 184.69,-70\"/>\n",
       "<polyline fill=\"none\" stroke=\"black\" points=\"180.69,-66 112.69,-66 \"/>\n",
       "<polyline fill=\"none\" stroke=\"black\" points=\"180.69,-66 180.69,-20 \"/>\n",
       "<polyline fill=\"none\" stroke=\"black\" points=\"180.69,-66 184.69,-70 \"/>\n",
       "<text text-anchor=\"middle\" x=\"148.69\" y=\"-41.3\" font-family=\"Times,serif\" font-size=\"14.00\">model</text>\n",
       "</g>\n",
       "<!-- results -->\n",
       "<g id=\"node3\" class=\"node\">\n",
       "<title>results</title>\n",
       "<ellipse fill=\"none\" stroke=\"black\" cx=\"254.49\" cy=\"-45\" rx=\"33.6\" ry=\"18\"/>\n",
       "<text text-anchor=\"middle\" x=\"254.49\" y=\"-41.3\" font-family=\"Times,serif\" font-size=\"14.00\">results</text>\n",
       "</g>\n",
       "<!-- model&#45;&gt;results -->\n",
       "<g id=\"edge2\" class=\"edge\">\n",
       "<title>model&#45;&gt;results</title>\n",
       "<path fill=\"none\" stroke=\"black\" d=\"M184.83,-45C193.03,-45 201.85,-45 210.35,-45\"/>\n",
       "<polygon fill=\"black\" stroke=\"black\" points=\"210.49,-48.5 220.49,-45 210.49,-41.5 210.49,-48.5\"/>\n",
       "</g>\n",
       "<!-- inputs -->\n",
       "<g id=\"node2\" class=\"node\">\n",
       "<title>inputs</title>\n",
       "<ellipse fill=\"none\" stroke=\"black\" cx=\"38.35\" cy=\"-72\" rx=\"32.49\" ry=\"18\"/>\n",
       "<text text-anchor=\"middle\" x=\"38.35\" y=\"-68.3\" font-family=\"Times,serif\" font-size=\"14.00\">inputs</text>\n",
       "</g>\n",
       "<!-- inputs&#45;&gt;model -->\n",
       "<g id=\"edge1\" class=\"edge\">\n",
       "<title>inputs&#45;&gt;model</title>\n",
       "<path fill=\"none\" stroke=\"black\" d=\"M68.38,-64.76C78.85,-62.15 90.94,-59.14 102.46,-56.27\"/>\n",
       "<polygon fill=\"black\" stroke=\"black\" points=\"103.54,-59.61 112.39,-53.8 101.84,-52.82 103.54,-59.61\"/>\n",
       "</g>\n",
       "<!-- weights -->\n",
       "<g id=\"node4\" class=\"node\">\n",
       "<title>weights</title>\n",
       "<ellipse fill=\"none\" stroke=\"black\" cx=\"38.35\" cy=\"-18\" rx=\"38.19\" ry=\"18\"/>\n",
       "<text text-anchor=\"middle\" x=\"38.35\" y=\"-14.3\" font-family=\"Times,serif\" font-size=\"14.00\">weights</text>\n",
       "</g>\n",
       "<!-- weights&#45;&gt;model -->\n",
       "<g id=\"edge3\" class=\"edge\">\n",
       "<title>weights&#45;&gt;model</title>\n",
       "<path fill=\"none\" stroke=\"black\" d=\"M72.44,-26.25C81.96,-28.62 92.51,-31.25 102.63,-33.77\"/>\n",
       "<polygon fill=\"black\" stroke=\"black\" points=\"101.99,-37.22 112.54,-36.24 103.69,-30.43 101.99,-37.22\"/>\n",
       "</g>\n",
       "</g>\n",
       "</svg>\n"
      ],
      "text/plain": [
       "<graphviz.files.Source at 0x7efcae0c5250>"
      ]
     },
     "execution_count": null,
     "metadata": {},
     "output_type": "execute_result"
    }
   ],
   "source": [
    "#hide_input\n",
    "#caption A program using weight assignment\n",
    "#id weight_assignment\n",
    "gv('''model[shape=box3d width=1 height=0.7]\n",
    "inputs->model->results; weights->model''')"
   ]
  },
  {
   "cell_type": "markdown",
   "metadata": {},
   "source": [
    "我们已将盒子的名称从“程序”更改为“型号”。 这是为了遵循现代术语并反映*模型*是一种特殊的程序：它可以做*许多不同的事情*，具体取决于*权重*。 它可以通过多种不同的方式来实现。 例如，在塞缪尔的跳棋程序中，不同的权重值将导致不同的跳棋策略。\n",
    "\n",
    "（顺便说一句，塞缪尔所谓的“权重”现在通常被称为模型*参数*，以防你遇到该术语。术语*权重*是为特定类型的模型参数保留的。）\n",
    "\n",
    "接下来，塞缪尔说我们需要一种“自动方法来测试任何当前权重分配在实际性能方面的有效性”。 就他的西洋跳棋程序而言，模型的“实际性能”就是它的表现如何。 你可以通过将两个模型设置为相互对抗来自动测试它们的性能，并查看哪一个通常会获胜。\n",
    "\n",
    "最后，他说我们需要*一种改变权重分配的机制，以便最大限度地提高性能*。 例如，我们可以查看获胜模型和失败模型之间的权重差异，并在获胜方向上进一步调整权重。\n",
    "\n",
    "我们现在可以明白为什么他说这样的程序*可以完全自动化，并且......如此编程的机器可以从其经验中“学习”。 当权重的调整也是自动的时，学习将变得完全自动化——当我们不再通过手动调整权重来改进模型时，我们依赖于一种根据性能进行调整的自动化机制。\n",
    "\n",
    "<<training_loop>>展示了Samuel训练机器学习模型的想法的全貌。"
   ]
  },
  {
   "cell_type": "code",
   "execution_count": null,
   "metadata": {
    "hide_input": true
   },
   "outputs": [
    {
     "data": {
      "image/svg+xml": [
       "<?xml version=\"1.0\" encoding=\"UTF-8\" standalone=\"no\"?>\n",
       "<!DOCTYPE svg PUBLIC \"-//W3C//DTD SVG 1.1//EN\"\n",
       " \"http://www.w3.org/Graphics/SVG/1.1/DTD/svg11.dtd\">\n",
       "<!-- Generated by graphviz version 2.43.0 (0)\n",
       " -->\n",
       "<!-- Title: G Pages: 1 -->\n",
       "<svg width=\"483pt\" height=\"98pt\"\n",
       " viewBox=\"0.00 0.00 483.08 98.00\" xmlns=\"http://www.w3.org/2000/svg\" xmlns:xlink=\"http://www.w3.org/1999/xlink\">\n",
       "<g id=\"graph0\" class=\"graph\" transform=\"scale(1 1) rotate(0) translate(4 94)\">\n",
       "<title>G</title>\n",
       "<polygon fill=\"white\" stroke=\"transparent\" points=\"-4,4 -4,-94 479.08,-94 479.08,4 -4,4\"/>\n",
       "<!-- model -->\n",
       "<g id=\"node1\" class=\"node\">\n",
       "<title>model</title>\n",
       "<polygon fill=\"none\" stroke=\"black\" points=\"185.69,-77 117.69,-77 113.69,-73 113.69,-27 181.69,-27 185.69,-31 185.69,-77\"/>\n",
       "<polyline fill=\"none\" stroke=\"black\" points=\"181.69,-73 113.69,-73 \"/>\n",
       "<polyline fill=\"none\" stroke=\"black\" points=\"181.69,-73 181.69,-27 \"/>\n",
       "<polyline fill=\"none\" stroke=\"black\" points=\"181.69,-73 185.69,-77 \"/>\n",
       "<text text-anchor=\"middle\" x=\"149.69\" y=\"-48.3\" font-family=\"Times,serif\" font-size=\"14.00\">model</text>\n",
       "</g>\n",
       "<!-- results -->\n",
       "<g id=\"node3\" class=\"node\">\n",
       "<title>results</title>\n",
       "<ellipse fill=\"none\" stroke=\"black\" cx=\"292.49\" cy=\"-52\" rx=\"33.6\" ry=\"18\"/>\n",
       "<text text-anchor=\"middle\" x=\"292.49\" y=\"-48.3\" font-family=\"Times,serif\" font-size=\"14.00\">results</text>\n",
       "</g>\n",
       "<!-- model&#45;&gt;results -->\n",
       "<g id=\"edge2\" class=\"edge\">\n",
       "<title>model&#45;&gt;results</title>\n",
       "<path fill=\"none\" stroke=\"black\" d=\"M185.86,-52C204.73,-52 228.14,-52 248.13,-52\"/>\n",
       "<polygon fill=\"black\" stroke=\"black\" points=\"248.22,-55.5 258.22,-52 248.22,-48.5 248.22,-55.5\"/>\n",
       "</g>\n",
       "<!-- inputs -->\n",
       "<g id=\"node2\" class=\"node\">\n",
       "<title>inputs</title>\n",
       "<ellipse fill=\"none\" stroke=\"black\" cx=\"38.35\" cy=\"-72\" rx=\"32.49\" ry=\"18\"/>\n",
       "<text text-anchor=\"middle\" x=\"38.35\" y=\"-68.3\" font-family=\"Times,serif\" font-size=\"14.00\">inputs</text>\n",
       "</g>\n",
       "<!-- inputs&#45;&gt;model -->\n",
       "<g id=\"edge1\" class=\"edge\">\n",
       "<title>inputs&#45;&gt;model</title>\n",
       "<path fill=\"none\" stroke=\"black\" d=\"M69.52,-66.48C80.08,-64.55 92.18,-62.34 103.68,-60.23\"/>\n",
       "<polygon fill=\"black\" stroke=\"black\" points=\"104.39,-63.66 113.59,-58.42 103.13,-56.78 104.39,-63.66\"/>\n",
       "</g>\n",
       "<!-- performance -->\n",
       "<g id=\"node5\" class=\"node\">\n",
       "<title>performance</title>\n",
       "<ellipse fill=\"none\" stroke=\"black\" cx=\"419.18\" cy=\"-52\" rx=\"55.79\" ry=\"18\"/>\n",
       "<text text-anchor=\"middle\" x=\"419.18\" y=\"-48.3\" font-family=\"Times,serif\" font-size=\"14.00\">performance</text>\n",
       "</g>\n",
       "<!-- results&#45;&gt;performance -->\n",
       "<g id=\"edge4\" class=\"edge\">\n",
       "<title>results&#45;&gt;performance</title>\n",
       "<path fill=\"none\" stroke=\"black\" d=\"M326.58,-52C334.84,-52 344,-52 353.23,-52\"/>\n",
       "<polygon fill=\"black\" stroke=\"black\" points=\"353.23,-55.5 363.23,-52 353.23,-48.5 353.23,-55.5\"/>\n",
       "</g>\n",
       "<!-- weights -->\n",
       "<g id=\"node4\" class=\"node\">\n",
       "<title>weights</title>\n",
       "<ellipse fill=\"none\" stroke=\"black\" cx=\"38.35\" cy=\"-18\" rx=\"38.19\" ry=\"18\"/>\n",
       "<text text-anchor=\"middle\" x=\"38.35\" y=\"-14.3\" font-family=\"Times,serif\" font-size=\"14.00\">weights</text>\n",
       "</g>\n",
       "<!-- weights&#45;&gt;model -->\n",
       "<g id=\"edge3\" class=\"edge\">\n",
       "<title>weights&#45;&gt;model</title>\n",
       "<path fill=\"none\" stroke=\"black\" d=\"M70.68,-27.74C81.03,-30.96 92.75,-34.61 103.9,-38.07\"/>\n",
       "<polygon fill=\"black\" stroke=\"black\" points=\"102.92,-41.43 113.51,-41.06 105,-34.75 102.92,-41.43\"/>\n",
       "</g>\n",
       "<!-- performance&#45;&gt;weights -->\n",
       "<g id=\"edge5\" class=\"edge\">\n",
       "<title>performance&#45;&gt;weights</title>\n",
       "<path fill=\"none\" stroke=\"black\" d=\"M380.65,-38.79C364.18,-33.57 344.49,-28.08 326.29,-25 242.8,-10.86 143.72,-12.41 86.54,-15.05\"/>\n",
       "<polygon fill=\"black\" stroke=\"black\" points=\"86.17,-11.56 76.36,-15.55 86.52,-18.55 86.17,-11.56\"/>\n",
       "<text text-anchor=\"middle\" x=\"222.19\" y=\"-19.8\" font-family=\"Times,serif\" font-size=\"14.00\">update</text>\n",
       "</g>\n",
       "</g>\n",
       "</svg>\n"
      ],
      "text/plain": [
       "<graphviz.files.Source at 0x7efcac812410>"
      ]
     },
     "execution_count": null,
     "metadata": {},
     "output_type": "execute_result"
    }
   ],
   "source": [
    "#hide_input\n",
    "#caption Training a machine learning model\n",
    "#id training_loop\n",
    "#alt The basic training loop\n",
    "gv('''ordering=in\n",
    "model[shape=box3d width=1 height=0.7]\n",
    "inputs->model->results; weights->model; results->performance\n",
    "performance->weights[constraint=false label=update]''')"
   ]
  },
  {
   "cell_type": "markdown",
   "metadata": {},
   "source": [
    "请注意模型的“结果”（例如跳棋游戏中的动作）与其“性能”（例如是否赢得比赛，或者获胜的速度）之间的区别。\n",
    "\n",
    "另请注意，一旦模型经过训练，也就是说，一旦我们选择了最终的、最好的、最喜欢的权重分配，那么我们就可以将权重视为“模型的一部分”，因为我们不会对它们进行任何改变 更多的。\n",
    "\n",
    "因此，实际上“使用”训练后的模型看起来像<<using_model>>。"
   ]
  },
  {
   "cell_type": "code",
   "execution_count": null,
   "metadata": {
    "hide_input": true
   },
   "outputs": [
    {
     "data": {
      "image/svg+xml": [
       "<?xml version=\"1.0\" encoding=\"UTF-8\" standalone=\"no\"?>\n",
       "<!DOCTYPE svg PUBLIC \"-//W3C//DTD SVG 1.1//EN\"\n",
       " \"http://www.w3.org/Graphics/SVG/1.1/DTD/svg11.dtd\">\n",
       "<!-- Generated by graphviz version 2.43.0 (0)\n",
       " -->\n",
       "<!-- Title: G Pages: 1 -->\n",
       "<svg width=\"285pt\" height=\"58pt\"\n",
       " viewBox=\"0.00 0.00 284.59 58.00\" xmlns=\"http://www.w3.org/2000/svg\" xmlns:xlink=\"http://www.w3.org/1999/xlink\">\n",
       "<g id=\"graph0\" class=\"graph\" transform=\"scale(1 1) rotate(0) translate(4 54)\">\n",
       "<title>G</title>\n",
       "<polygon fill=\"white\" stroke=\"transparent\" points=\"-4,4 -4,-54 280.59,-54 280.59,4 -4,4\"/>\n",
       "<!-- model -->\n",
       "<g id=\"node1\" class=\"node\">\n",
       "<title>model</title>\n",
       "<polygon fill=\"none\" stroke=\"black\" points=\"172.99,-50 104.99,-50 100.99,-46 100.99,0 168.99,0 172.99,-4 172.99,-50\"/>\n",
       "<polyline fill=\"none\" stroke=\"black\" points=\"168.99,-46 100.99,-46 \"/>\n",
       "<polyline fill=\"none\" stroke=\"black\" points=\"168.99,-46 168.99,0 \"/>\n",
       "<polyline fill=\"none\" stroke=\"black\" points=\"168.99,-46 172.99,-50 \"/>\n",
       "<text text-anchor=\"middle\" x=\"136.99\" y=\"-21.3\" font-family=\"Times,serif\" font-size=\"14.00\">model</text>\n",
       "</g>\n",
       "<!-- results -->\n",
       "<g id=\"node3\" class=\"node\">\n",
       "<title>results</title>\n",
       "<ellipse fill=\"none\" stroke=\"black\" cx=\"242.79\" cy=\"-25\" rx=\"33.6\" ry=\"18\"/>\n",
       "<text text-anchor=\"middle\" x=\"242.79\" y=\"-21.3\" font-family=\"Times,serif\" font-size=\"14.00\">results</text>\n",
       "</g>\n",
       "<!-- model&#45;&gt;results -->\n",
       "<g id=\"edge2\" class=\"edge\">\n",
       "<title>model&#45;&gt;results</title>\n",
       "<path fill=\"none\" stroke=\"black\" d=\"M173.14,-25C181.33,-25 190.15,-25 198.65,-25\"/>\n",
       "<polygon fill=\"black\" stroke=\"black\" points=\"198.79,-28.5 208.79,-25 198.79,-21.5 198.79,-28.5\"/>\n",
       "</g>\n",
       "<!-- inputs -->\n",
       "<g id=\"node2\" class=\"node\">\n",
       "<title>inputs</title>\n",
       "<ellipse fill=\"none\" stroke=\"black\" cx=\"32.5\" cy=\"-25\" rx=\"32.49\" ry=\"18\"/>\n",
       "<text text-anchor=\"middle\" x=\"32.5\" y=\"-21.3\" font-family=\"Times,serif\" font-size=\"14.00\">inputs</text>\n",
       "</g>\n",
       "<!-- inputs&#45;&gt;model -->\n",
       "<g id=\"edge1\" class=\"edge\">\n",
       "<title>inputs&#45;&gt;model</title>\n",
       "<path fill=\"none\" stroke=\"black\" d=\"M65.09,-25C73.11,-25 81.9,-25 90.47,-25\"/>\n",
       "<polygon fill=\"black\" stroke=\"black\" points=\"90.76,-28.5 100.76,-25 90.76,-21.5 90.76,-28.5\"/>\n",
       "</g>\n",
       "</g>\n",
       "</svg>\n"
      ],
      "text/plain": [
       "<graphviz.files.Source at 0x7efcac8129d0>"
      ]
     },
     "execution_count": null,
     "metadata": {},
     "output_type": "execute_result"
    }
   ],
   "source": [
    "#hide_input\n",
    "#caption Using a trained model as a program\n",
    "#id using_model\n",
    "gv('''model[shape=box3d width=1 height=0.7]\n",
    "inputs->model->results''')"
   ]
  },
  {
   "cell_type": "markdown",
   "metadata": {},
   "source": [
    "这看起来与我们在 <<basic_program>> 中的原始图表相同，只是将单词 *program* 替换为 *model*。 这是一个重要的见解：*训练好的模型可以像常规计算机程序一样对待*。"
   ]
  },
  {
   "cell_type": "markdown",
   "metadata": {},
   "source": [
    "> 术语：机器学习：通过让计算机从其经验中学习来开发程序的训练，而不是通过手动编码各个步骤。"
   ]
  },
  {
   "cell_type": "markdown",
   "metadata": {},
   "source": [
    "### 什么是神经网络？"
   ]
  },
  {
   "cell_type": "markdown",
   "metadata": {},
   "source": [
    "不难想象跳棋程序的模型会是什么样子。 可能有一系列编码的跳棋策略和某种搜索机制，然后权重可能会改变策略的选择方式、搜索过程中关注棋盘的哪些部分等等。 但对于图像识别程序、理解文本或我们可能想象的许多其他有趣问题来说，模型的样子并不明显。\n",
    "\n",
    "我们想要的是某种非常灵活的函数，只需改变其权重即可解决任何给定的问题。 令人惊讶的是，这个功能确实存在！ 这就是我们已经讨论过的神经网络。 也就是说，如果你将神经网络视为一个数学函数，那么它会根据其权重而变得非常灵活。 称为“通用逼近定理”的数学证明表明，理论上该函数可以以任何精度级别解决任何问题。 神经网络如此灵活这一事实意味着，在实践中，它们通常是一种合适的模型，你可以将精力集中在训练它们的过程上，即找到良好的权重分配。\n",
    "\n",
    "但这个过程又如何呢？ 人们可以想象，你可能需要找到一种新的“机制”来自动更新每个问题的权重。 这会很费力。 我们在这里还想要一种完全通用的方法来更新神经网络的权重，以使其在任何给定任务上得到改进。 方便的是，这也存在！\n",
    "\n",
    "这称为*随机梯度下降*（SGD）。 我们将在《chapter_mnist_basics》中详细了解神经网络和 SGD 如何工作，并解释万能逼近定理。 然而，现在我们将改用塞缪尔自己的话：*我们不需要深入研究这样一个过程的细节，就可以看到它可以完全自动化，并看到这样编程的机器可以从其经验中“学习”。 *"
   ]
  },
  {
   "cell_type": "markdown",
   "metadata": {},
   "source": [
    "> J：别担心，SGD 和神经网络在数学上都不复杂。 两者几乎完全依赖加法和乘法来完成其工作（但它们执行大量加法和乘法！）。 当学生看到细节时，我们听到的主要反应是：“就是这样吗？”"
   ]
  },
  {
   "cell_type": "markdown",
   "metadata": {},
   "source": [
    "换句话说，回顾一下，神经网络是一种特殊的机器学习模型，它完全符合塞缪尔最初的构想。 神经网络的特殊之处在于它们高度灵活，这意味着它们只需找到正确的权重就可以解决异常广泛的问题。 这很强大，因为随机梯度下降为我们提供了一种自动找到这些权重值的方法。\n",
    "\n",
    "缩小之后，现在让我们重新放大并使用 Samuel 的框架重新审视我们的图像分类问题。\n",
    "\n",
    "我们的输入是图像。 我们的权重是神经网络中的权重。 我们的模型是一个神经网络。 我们的结果是由神经网络计算的值，例如“狗”或“猫”。\n",
    "\n",
    "下一个怎么样，*自动测试任何当前权重分配在实际性能方面的有效性*？ 确定“实际性能”非常简单：我们可以简单地将模型的性能定义为其预测正确答案的准确性。\n",
    "\n",
    "将所有这些放在一起，并假设 SGD 是我们更新权重分配的机制，我们可以看到我们的图像分类器如何成为一个机器学习模型，就像塞缪尔设想的那样。"
   ]
  },
  {
   "cell_type": "markdown",
   "metadata": {},
   "source": [
    "### 一些深度学习术语"
   ]
  },
  {
   "cell_type": "markdown",
   "metadata": {},
   "source": [
    "Samuel 的工作时间是 20 世纪 60 年代，从那时起术语就发生了变化。 以下是我们讨论的所有内容的现代深度学习术语：\n",
    "\n",
    "- *模型* 的函数形式称为其*架构*（但要小心，有时人们将*模型* 作为*架构* 的同义词，因此这可能会令人困惑）。\n",
    "- *权重*称为*参数*。\n",
    "- *预测*是根据*自变量*计算得出的，即不包括*标签*的*数据*。\n",
    "- 模型的*结果*称为*预测*。\n",
    "- *性能*的衡量标准称为*损失*。\n",
    "- 损失不仅取决于预测，还取决于正确的*标签*（也称为*目标*或*因变量*）； 例如，“狗”或“猫”。\n",
    "\n",
    "进行这些更改后，<<training_loop>> 中的图表看起来像 <<detailed_loop>>。"
   ]
  },
  {
   "cell_type": "code",
   "execution_count": null,
   "metadata": {
    "hide_input": true
   },
   "outputs": [
    {
     "data": {
      "image/svg+xml": [
       "<?xml version=\"1.0\" encoding=\"UTF-8\" standalone=\"no\"?>\n",
       "<!DOCTYPE svg PUBLIC \"-//W3C//DTD SVG 1.1//EN\"\n",
       " \"http://www.w3.org/Graphics/SVG/1.1/DTD/svg11.dtd\">\n",
       "<!-- Generated by graphviz version 2.43.0 (0)\n",
       " -->\n",
       "<!-- Title: G Pages: 1 -->\n",
       "<svg width=\"489pt\" height=\"134pt\"\n",
       " viewBox=\"0.00 0.00 489.18 134.36\" xmlns=\"http://www.w3.org/2000/svg\" xmlns:xlink=\"http://www.w3.org/1999/xlink\">\n",
       "<g id=\"graph0\" class=\"graph\" transform=\"scale(1 1) rotate(0) translate(4 130.36)\">\n",
       "<title>G</title>\n",
       "<polygon fill=\"white\" stroke=\"transparent\" points=\"-4,4 -4,-130.36 485.18,-130.36 485.18,4 -4,4\"/>\n",
       "<!-- model -->\n",
       "<g id=\"node1\" class=\"node\">\n",
       "<title>model</title>\n",
       "<polygon fill=\"none\" stroke=\"black\" points=\"217.09,-79.36 141.09,-79.36 137.09,-75.36 137.09,-29.36 213.09,-29.36 217.09,-33.36 217.09,-79.36\"/>\n",
       "<polyline fill=\"none\" stroke=\"black\" points=\"213.09,-75.36 137.09,-75.36 \"/>\n",
       "<polyline fill=\"none\" stroke=\"black\" points=\"213.09,-75.36 213.09,-29.36 \"/>\n",
       "<polyline fill=\"none\" stroke=\"black\" points=\"213.09,-75.36 217.09,-79.36 \"/>\n",
       "<text text-anchor=\"middle\" x=\"177.09\" y=\"-50.66\" font-family=\"Times,serif\" font-size=\"14.00\">architecture</text>\n",
       "</g>\n",
       "<!-- predictions -->\n",
       "<g id=\"node3\" class=\"node\">\n",
       "<title>predictions</title>\n",
       "<ellipse fill=\"none\" stroke=\"black\" cx=\"340.14\" cy=\"-54.36\" rx=\"50.09\" ry=\"18\"/>\n",
       "<text text-anchor=\"middle\" x=\"340.14\" y=\"-50.66\" font-family=\"Times,serif\" font-size=\"14.00\">predictions</text>\n",
       "</g>\n",
       "<!-- model&#45;&gt;predictions -->\n",
       "<g id=\"edge2\" class=\"edge\">\n",
       "<title>model&#45;&gt;predictions</title>\n",
       "<path fill=\"none\" stroke=\"black\" d=\"M217.49,-54.36C236.29,-54.36 259.19,-54.36 280.02,-54.36\"/>\n",
       "<polygon fill=\"black\" stroke=\"black\" points=\"280.06,-57.86 290.06,-54.36 280.06,-50.86 280.06,-57.86\"/>\n",
       "</g>\n",
       "<!-- inputs -->\n",
       "<g id=\"node2\" class=\"node\">\n",
       "<title>inputs</title>\n",
       "<ellipse fill=\"none\" stroke=\"black\" cx=\"50.05\" cy=\"-74.36\" rx=\"32.49\" ry=\"18\"/>\n",
       "<text text-anchor=\"middle\" x=\"50.05\" y=\"-70.66\" font-family=\"Times,serif\" font-size=\"14.00\">inputs</text>\n",
       "</g>\n",
       "<!-- inputs&#45;&gt;model -->\n",
       "<g id=\"edge1\" class=\"edge\">\n",
       "<title>inputs&#45;&gt;model</title>\n",
       "<path fill=\"none\" stroke=\"black\" d=\"M81.64,-69.47C95.15,-67.31 111.38,-64.71 126.54,-62.28\"/>\n",
       "<polygon fill=\"black\" stroke=\"black\" points=\"127.51,-65.67 136.83,-60.64 126.4,-58.76 127.51,-65.67\"/>\n",
       "</g>\n",
       "<!-- loss -->\n",
       "<g id=\"node6\" class=\"node\">\n",
       "<title>loss</title>\n",
       "<ellipse fill=\"none\" stroke=\"black\" cx=\"454.18\" cy=\"-83.36\" rx=\"27\" ry=\"18\"/>\n",
       "<text text-anchor=\"middle\" x=\"454.18\" y=\"-79.66\" font-family=\"Times,serif\" font-size=\"14.00\">loss</text>\n",
       "</g>\n",
       "<!-- predictions&#45;&gt;loss -->\n",
       "<g id=\"edge5\" class=\"edge\">\n",
       "<title>predictions&#45;&gt;loss</title>\n",
       "<path fill=\"none\" stroke=\"black\" d=\"M381.27,-64.75C393.51,-67.91 406.85,-71.37 418.68,-74.43\"/>\n",
       "<polygon fill=\"black\" stroke=\"black\" points=\"418.07,-77.89 428.63,-77 419.82,-71.11 418.07,-77.89\"/>\n",
       "</g>\n",
       "<!-- parameters -->\n",
       "<g id=\"node4\" class=\"node\">\n",
       "<title>parameters</title>\n",
       "<ellipse fill=\"none\" stroke=\"black\" cx=\"50.05\" cy=\"-20.36\" rx=\"50.09\" ry=\"18\"/>\n",
       "<text text-anchor=\"middle\" x=\"50.05\" y=\"-16.66\" font-family=\"Times,serif\" font-size=\"14.00\">parameters</text>\n",
       "</g>\n",
       "<!-- parameters&#45;&gt;model -->\n",
       "<g id=\"edge3\" class=\"edge\">\n",
       "<title>parameters&#45;&gt;model</title>\n",
       "<path fill=\"none\" stroke=\"black\" d=\"M90.61,-31.12C102.13,-34.25 114.85,-37.71 126.88,-40.98\"/>\n",
       "<polygon fill=\"black\" stroke=\"black\" points=\"126.22,-44.42 136.78,-43.67 128.05,-37.67 126.22,-44.42\"/>\n",
       "</g>\n",
       "<!-- labels -->\n",
       "<g id=\"node5\" class=\"node\">\n",
       "<title>labels</title>\n",
       "<ellipse fill=\"none\" stroke=\"black\" cx=\"340.14\" cy=\"-108.36\" rx=\"31.4\" ry=\"18\"/>\n",
       "<text text-anchor=\"middle\" x=\"340.14\" y=\"-104.66\" font-family=\"Times,serif\" font-size=\"14.00\">labels</text>\n",
       "</g>\n",
       "<!-- labels&#45;&gt;loss -->\n",
       "<g id=\"edge4\" class=\"edge\">\n",
       "<title>labels&#45;&gt;loss</title>\n",
       "<path fill=\"none\" stroke=\"black\" d=\"M369.41,-102.05C384.3,-98.73 402.69,-94.63 418.44,-91.11\"/>\n",
       "<polygon fill=\"black\" stroke=\"black\" points=\"419.35,-94.49 428.35,-88.9 417.83,-87.66 419.35,-94.49\"/>\n",
       "</g>\n",
       "<!-- loss&#45;&gt;parameters -->\n",
       "<g id=\"edge6\" class=\"edge\">\n",
       "<title>loss&#45;&gt;parameters</title>\n",
       "<path fill=\"none\" stroke=\"black\" d=\"M440.88,-67.53C429.39,-54.1 410.95,-35.74 390.18,-27.36 295.38,10.89 173.21,0.49 104.38,-10.18\"/>\n",
       "<polygon fill=\"black\" stroke=\"black\" points=\"103.53,-6.77 94.21,-11.81 104.64,-13.68 103.53,-6.77\"/>\n",
       "<text text-anchor=\"middle\" x=\"253.59\" y=\"-6.16\" font-family=\"Times,serif\" font-size=\"14.00\">update</text>\n",
       "</g>\n",
       "</g>\n",
       "</svg>\n"
      ],
      "text/plain": [
       "<graphviz.files.Source at 0x7efcac717550>"
      ]
     },
     "execution_count": null,
     "metadata": {},
     "output_type": "execute_result"
    }
   ],
   "source": [
    "#hide_input\n",
    "#caption Detailed training loop\n",
    "#id detailed_loop\n",
    "gv('''ordering=in\n",
    "model[shape=box3d width=1 height=0.7 label=architecture]\n",
    "inputs->model->predictions; parameters->model; labels->loss; predictions->loss\n",
    "loss->parameters[constraint=false label=update]''')"
   ]
  },
  {
   "cell_type": "markdown",
   "metadata": {},
   "source": [
    "### 机器学习固有的局限性\n",
    "\n",
    "从这张图中我们现在可以看到有关训练深度学习模型的一些基本知识：\n",
    "\n",
    "- 没有数据就无法创建模型。\n",
    "- 模型只能学习对用于训练它的输入数据中看到的模式进行操作。\n",
    "- 这种学习方法仅创建*预测*，而不推荐*行动*。\n",
    "- 仅拥有输入数据的示例是不够的； 我们也需要这些数据的“标签”（例如，狗和猫的图片不足以训练模型；我们需要为每个数据添加一个标签，说明哪些是狗，哪些是猫）。\n",
    "\n",
    "一般来说，我们发现大多数组织说他们没有足够的数据，实际上意味着他们没有足够的*标记*数据。 如果任何组织有兴趣在实践中使用模型做某事，那么他们可能有一些计划用于运行模型的输入。 想必他们已经以其他方式这样做了一段时间（例如，手动或使用一些启发式程序），因此他们拥有来自这些过程的数据！ 例如，放射学实践几乎肯定会有医疗扫描的档案（因为他们需要能够检查患者随时间的进展情况），但这些扫描可能没有包含诊断或干预列表的结构化标签（因为 放射科医生通常创建自由文本的自然语言报告，而不是结构化数据）。 我们将在本书中大量讨论标签方法，因为它在实践中是一个非常重要的问题。\n",
    "\n",
    "由于这些类型的机器学习模型只能进行*预测*（即尝试复制标签），这可能会导致组织目标和模型能力之间存在巨大差距。 例如，在本书中，你将学习如何创建一个可以预测用户可能购买哪些产品的“推荐系统”。 这通常用于电子商务，例如通过显示排名最高的商品来定制主页上显示的产品。 但这样的模型通常是通过查看用户及其购买历史记录（*输入*）以及他们继续购买或查看的内容（*标签*）来创建的，这意味着该模型可能会告诉你有关产品的信息 用户已经拥有或已经了解的产品，而不是他们最有可能有兴趣听到的新产品。 这与当地书商的专家可能会做的事情非常不同，他们会提出问题来了解你的品味，然后告诉你有关你以前从未听说过的作者或系列的信息。"
   ]
  },
  {
   "cell_type": "markdown",
   "metadata": {},
   "source": [
    "另一个重要的见解来自于考虑模型如何与其环境交互。 这可以创建*反馈循环*，如下所述：\n",
    "\n",
    "- 根据过去逮捕地点创建“预测警务”模型。 实际上，这实际上并不是预测犯罪，而是预测逮捕，因此部分简单地反映了现有警务流程中的偏见。\n",
    "- 执法人员随后可能会使用该模型来决定警察活动的重点，从而导致这些地区的逮捕人数增加。\n",
    "- 有关这些额外逮捕的数据将被反馈以重新训练该模型的未来版本。\n",
    "\n",
    "这是一个“正反馈循环”，模型使用得越多，数据的偏差就越大，从而使模型更加偏差，等等。\n",
    "\n",
    "反馈循环也会在商业环境中产生问题。 例如，视频推荐系统可能会偏向于推荐最大视频观看者消费的内容（例如，阴谋论者和极端分子倾向于比平均水平观看更多的在线视频内容），导致这些用户增加视频消费，从而导致 推荐更多此类视频。 我们将在<<chapter_ethics>>中更详细地讨论这个主题。"
   ]
  },
  {
   "cell_type": "markdown",
   "metadata": {},
   "source": [
    "现在你已经了解了理论基础，让我们回到我们的代码示例，详细了解代码如何与我们刚刚描述的过程相对应。"
   ]
  },
  {
   "cell_type": "markdown",
   "metadata": {},
   "source": [
    "### 我们的图像识别器如何工作"
   ]
  },
  {
   "cell_type": "markdown",
   "metadata": {},
   "source": [
    "让我们看看我们的图像识别器代码如何映射到这些想法。 我们将把每一行放入一个单独的单元格中，并查看每个行在做什么（我们不会解释每个参数的每个细节，但会给出重要位的描述；完整的细节将在本书的后面部分提供 ）。"
   ]
  },
  {
   "cell_type": "markdown",
   "metadata": {},
   "source": [
    "第一行导入所有 fastai.vision 库。\n",
    "\n",
    "```python\n",
    "from fastai.vision.all import *\n",
    "```\n",
    "\n",
    "这为我们提供了创建各种计算机视觉模型所需的所有函数和类。"
   ]
  },
  {
   "cell_type": "markdown",
   "metadata": {},
   "source": [
    "> J：许多 Python 程序员建议避免像这样导入整个库（使用 `import *` 语法），因为在大型软件项目中这可能会导致问题。 然而，对于交互式工作（例如在 Jupyter 笔记本中），它的效果非常好。 fastai 库是专门为支持这种交互式使用而设计的，它只会将必要的部分导入到你的环境中。"
   ]
  },
  {
   "cell_type": "markdown",
   "metadata": {},
   "source": [
    "第二行从 [fast.ai 数据集集合](https://course.fast.ai/datasets) 下载标准数据集（如果之前没有下载过）到你的服务器，提取它（如果之前没有提取过），然后返回 具有提取位置的“Path”对象：\n",
    "\n",
    "```python\n",
    "path = untar_data(URLs.PETS)/'images'\n",
    "```\n",
    "\n",
    "> S：在 fast.ai 学习期间，甚至直到今天，我学到了很多关于高效编码实践的知识。 fastai 库和 fast.ai 笔记本充满了很棒的小技巧，帮助我成为一名更好的程序员。 例如，请注意 fastai 库不仅返回包含数据集路径的字符串，还返回一个“Path”对象。 这是 Python 3 标准库中一个非常有用的类，它使访问文件和目录变得更加容易。 如果你以前没有遇到过它，请务必查看其文档或教程并尝试一下。 请注意，https://book.fast.ai[网站] 包含每章推荐教程的链接。 当我们遇到一些我发现有用的编码技巧时，我会不断地向你介绍这些技巧。"
   ]
  },
  {
   "cell_type": "markdown",
   "metadata": {},
   "source": [
    "在第三行中，我们定义一个函数“is_cat”，它根据数据集创建者提供的文件名规则来标记猫：\n",
    "\n",
    "```python\n",
    "def is_cat(x): return x[0].isupper()\n",
    "```"
   ]
  },
  {
   "cell_type": "markdown",
   "metadata": {},
   "source": [
    "我们在第四行中使用该函数，它告诉 fastai 我们拥有什么样的数据集以及它的结构：\n",
    "\n",
    "```python\n",
    "dls = ImageDataLoaders.from_name_func(\n",
    "    path, get_image_files(path), valid_pct=0.2, seed=42,\n",
    "    label_func=is_cat, item_tfms=Resize(224))\n",
    "```\n",
    "\n",
    "对于不同类型的深度学习数据集和问题，有各种不同的类 - 这里我们使用“ImageDataLoaders”。 类名的第一部分通常是你拥有的数据类型，例如图像或文本。\n",
    "\n",
    "我们必须告诉 fastai 的另一个重要信息是如何从数据集中获取标签。 计算机视觉数据集的结构通常是图像的标签是文件名或路径的一部分（最常见的是父文件夹名称）。 fastai 附带了许多标准化的标签方法，以及编写你自己的方法。 在这里，我们告诉 fastai 使用我们刚刚定义的“is_cat”函数。\n",
    "\n",
    "最后，我们定义我们需要的“Transform”。 “Transform”包含在训练期间自动应用的代码； fastai 包含许多预定义的“Transform”，添加新的“Transform”就像创建一个 Python 函数一样简单。 有两种：“item_tfms”应用于每个项目（在本例中，每个项目的大小调整为 224 像素的正方形），而“batch_tfms”使用 GPU 一次应用于*批次*项目， 所以它们特别快（我们将在本书中看到很多这样的例子）。\n",
    "\n",
    "为什么是 224 像素？ 由于历史原因，这是标准大小（旧的预训练模型完全需要这个大小），但你几乎可以传递任何内容。 如果增加尺寸，你通常会得到一个具有更好结果的模型（因为它将能够专注于更多细节），但代价是速度和内存消耗； 如果减小尺寸，则相反。"
   ]
  },
  {
   "cell_type": "markdown",
   "metadata": {},
   "source": [
    "> 注意：分类和回归：_classification_ 和_regression_ 在机器学习中具有非常具体的含义。 这是我们将在本书中研究的两种主要模型类型。 分类模型是一种尝试预测类别或类别的模型。 也就是说，它根据许多离散的可能性进行预测，例如“狗”或“猫”。 回归模型是一种尝试预测一个或多个数值量（例如温度或位置）的模型。 有时，人们使用“回归”一词来指代一种称为“线性回归模型”的特定模型； 这是一种不好的做法，我们不会在本书中使用该术语！"
   ]
  },
  {
   "cell_type": "markdown",
   "metadata": {},
   "source": [
    "Pet 数据集包含 7,390 张狗和猫的图片，涵盖 37 个不同品种。 每个图像都使用其文件名进行标记：例如，文件 *great\\_pyrenees\\_173.jpg* 是数据集中大比利牛斯犬种图像的第 173 个示例。 如果图像是猫，则文件名以大写字母开头，否则以小写字母开头。 我们必须告诉 fastai 如何从文件名中获取标签，我们通过调用 `from_name_func`（这意味着可以使用应用于文件名的函数来提取标签）并传递 `is_cat` 来实现，该函数返回 `x[0].isupper()`，如果第一个字母是大写（即，它是一只猫），则计算结果为 `True`。\n",
    "\n",
    "这里要提到的最重要的参数是 `valid_pct=0.2`。 这告诉 fastai 保留 20% 的数据并且*根本不使用它来训练模型*。 这 20% 的数据称为*验证集*； 剩下的 80% 称为*训练集*。 验证集用于衡量模型的准确性。 默认情况下，保留的 20% 是随机选择的。 每次运行此代码时，参数“seed=42”都会将*随机种子*设置为相同的值，这意味着每次运行它时我们都会获得相同的验证集 - 这样，如果我们更改模型并重新训练它， 我们知道任何差异都是由于模型的更改造成的，而不是由于具有不同的随机验证集。\n",
    "\n",
    "fastai 将*始终*仅使用验证集，*从不*使用训练集，向你显示模型的准确性。 这绝对是至关重要的，因为如果你训练足够大的模型足够长的时间，它最终会记住数据集中每个项目的标签！ 结果实际上不会是一个有用的模型，因为我们关心的是我们的模型在“以前未见过的图像”上的工作效果如何。 这始终是我们创建模型时的目标：让它对模型经过训练后只能在未来看到的数据有用。\n",
    "\n",
    "即使你的模型没有完全记住所有数据，在训练的早期，它也可能已经记住了其中的某些部分。 因此，你训练的时间越长，你在训练集上的准确性就越高； 验证集的准确性也会暂时提高，但最终会开始变得更糟，因为模型开始记住训练集，而不是在数据中找到可概括的基础模式。 当这种情况发生时，我们说模型“过度拟合”。\n",
    "\n",
    "<<img_overfit>> 使用一个简化的示例展示了过度拟合时会发生什么，其中我们只有一个参数，以及一些基于函数 ```x**2``` 随机生成的数据。 正如你所看到的，尽管过拟合模型中的预测对于观察到的数据点附近的数据是准确的，但当超出该范围时，预测结果就会相差很大。"
   ]
  },
  {
   "cell_type": "markdown",
   "metadata": {},
   "source": [
    "<img src=\"images/att_00000.png\" alt=\"Example of overfitting\" caption=\"Example of overfitting\" id=\"img_overfit\" width=\"700\">"
   ]
  },
  {
   "cell_type": "markdown",
   "metadata": {},
   "source": [
    "**在对所有机器学习从业者和所有算法进行培训时，过度拟合是最重要和最具挑战性的问题**。 正如你将看到的，创建一个模型非常容易，该模型可以很好地对所训练的确切数据进行预测，但对模型以前从未见过的数据进行准确预测则要困难得多。 当然，这是在实践中真正重要的数据。 例如，如果你创建一个手写数字分类器（我们很快就会这样做！）并用它来识别支票上写的数字，那么你将永远不会看到模型所训练的任何数字 - 支票上会稍微有一些变化。 需要处理不同的写作变体。 你将在本书中学到许多避免过度拟合的方法。 但是，只有在确认确实发生了过度拟合（即，你实际上观察到验证准确性在训练期间变得更糟）后，才应使用这些方法。 我们经常看到从业者使用过度拟合避免技术，即使他们有足够的数据，他们不需要这样做，最终得到的模型可能不如他们所能达到的准确。"
   ]
  },
  {
   "cell_type": "markdown",
   "metadata": {},
   "source": [
    "> 重要：验证集：训练模型时，你必须_始终_同时拥有训练集和验证集，并且必须仅在验证集上测量模型的准确性。 如果你训练时间太长，没有足够的数据，你会发现模型的准确性开始变差； 这称为_过度拟合_。 fastai 默认 `valid_pct` 为 `0.2`，所以即使你忘记了，fastai 也会为你创建一个验证集！"
   ]
  },
  {
   "cell_type": "markdown",
   "metadata": {},
   "source": [
    "训练我们的图像识别器的代码的第五行告诉 fastai 创建一个*卷积神经网络*（CNN）并指定要使用什么*架构*（即创建什么样的模型），我们想要训练它的数据， 以及使用什么*指标*：\n",
    "\n",
    "```python\n",
    "learn = vision_learner(dls, resnet34, metrics=error_rate)\n",
    "```\n",
    "\n",
    "为什么是CNN？ 这是当前创建计算机视觉模型的最先进方法。 我们将在本书中全面了解 CNN 的工作原理。 它们的结构受到人类视觉系统工作原理的启发。\n",
    "\n",
    "fastai 有许多不同的架构，我们将在本书中介绍它们（以及讨论如何创建自己的架构）。 然而，大多数时候，选择架构并不是深度学习过程中非常重要的部分。 这是学术界喜欢谈论的事情，但在实践中它不太可能是你需要花很多时间的事情。 有一些标准架构在大多数情况下都可以工作，在本例中，我们使用一个名为 _ResNet_ 的架构，我们将在本书中详细讨论它； 对于许多数据集和问题来说，它既快速又准确。`resnet34` 中的 `34` 指的是该架构变体中的层数（其他选项有`18`、`50`、`101` 和 `152`）。 使用更多层架构的模型需要更长的时间来训练，并且更容易出现过度拟合（即，在验证集的准确性开始变差之前，你无法对它们进行尽可能多的训练）。 另一方面，当使用更多数据时，它们可能会更加准确。\n",
    "\n",
    "什么是度量？ *metric* 是一个使用验证集衡量模型预测质量的函数，并将在每个 *epoch* 结束时打印。 在本例中，我们使用 `error_rate`，这是 fastai 提供的一个函数，它的作用正如其所言：告诉你验证集中有多少图像被错误分类。 分类的另一个常见指标是“准确度”（即 `1.0 - error_rate`）。 fastai 提供了更多内容，本书将对此进行讨论。\n",
    "\n",
    "指标的概念可能会让你想起“损失”，但有一个重要的区别。 损失的全部目的是定义训练系统可以用来自动更新权重的“性能衡量标准”。 换句话说，损失的一个好的选择是易于随机梯度下降使用的选择。 但指标是为人类消费而定义的，因此一个好的指标应该是你易于理解的指标，并且尽可能接近你希望模型执行的操作。 有时，你可能认为损失函数是一个合适的指标，但情况不一定如此。"
   ]
  },
  {
   "cell_type": "markdown",
   "metadata": {},
   "source": [
    "`vision_learner` 还有一个参数 `pretrained`，默认为 `True`（因此在本例中使用它，即使我们没有指定它），它将模型中的权重设置为已经训练过的值 专家识别 130 万张照片中的 1000 个不同类别（使用著名的 [*ImageNet* 数据集](http://www.image-net.org/)）。 已在其他数据集上训练过权重的模型称为 `预训练模型`。 你几乎应该始终使用预训练模型，因为这意味着你的模型在你向其显示任何数据之前就已经非常强大了。 而且，正如你将看到的，在深度学习模型中，你将需要许多这些功能，几乎无论项目的细节如何。 例如，预训练模型的一部分将处理许多任务所需的边缘、梯度和颜色检测。\n",
    "\n",
    "使用预训练模型时，`vision_learner` 将删除最后一层，因为它始终是针对原始训练任务（即 ImageNet 数据集分类）专门定制的，并将其替换为一个或多个具有适当大小的随机权重的新层 对于你正在使用的数据集。 模型的最后一部分称为*头部*。\n",
    "\n",
    "使用预训练模型是`最`重要的方法，它使我们能够用更少的数据、更少的时间和金钱更快地训练更准确的模型。 你可能认为这意味着使用预训练模型将是学术深度学习中研究最多的领域……但你就错了！ 大多数课程、书籍或软件库功能中通常没有认识或讨论预训练模型的重要性，并且在学术论文中也很少考虑。 当我们在 2020 年初写这篇文章时，情况才刚刚开始发生变化，但这可能需要一段时间。 因此要小心：与你交谈的大多数人可能会大大低估你在资源很少的情况下在深度学习中可以做的事情，因为他们可能不会深入了解如何使用预训练模型。\n",
    "\n",
    "使用预训练模型来完成与最初训练的任务不同的任务称为 `迁移学习`。 不幸的是，由于迁移学习的研究还很少，很少有领域拥有可用的预训练模型。 例如，目前医学领域可用的预训练模型很少，这使得迁移学习在该领域的使用具有挑战性。 此外，目前还没有很好地理解如何将迁移学习用于时间序列分析等任务。"
   ]
  },
  {
   "cell_type": "markdown",
   "metadata": {},
   "source": [
    "> 术语：迁移学习：使用预训练的模型来完成与最初训练的任务不同的任务。"
   ]
  },
  {
   "cell_type": "markdown",
   "metadata": {},
   "source": [
    "我们代码的第六行告诉 fastai 如何 *拟合* 模型：\n",
    "\n",
    "```python\n",
    "learn.fine_tune(1)\n",
    "```\n",
    "\n",
    "正如我们所讨论的，该架构仅描述了数学函数的*模板*； 在我们为其包含的数百万个参数提供值之前，它实际上不会执行任何操作。\n",
    "\n",
    "这是深度学习的关键——确定如何拟合模型的参数以使其解决你的问题。 为了拟合模型，我们必须提供至少一条信息：查看每张图像多少次（称为 *epochs* 数）。 你选择的 epoch 数量在很大程度上取决于你有多少可用时间，以及你发现在实践中需要多长时间才能适应你的模型。 如果你选择的数字太小，你以后可以随时训练更多轮次。\n",
    "\n",
    "但为什么该方法称为 *fine_tune*，而不是 *fit*？ fastai 实际上*确实*有一个名为 *fit* 的方法，它确实适合模型（即多次查看训练集中的图像，每次更新参数以使预测越来越接近目标标签）。 但在这种情况下，我们从预训练模型开始，我们不想放弃它已经拥有的所有功能。 正如你将在本书中学到的，有一些重要的技巧可以使预训练模型适应新的数据集，这个过程称为 *微调*。"
   ]
  },
  {
   "cell_type": "markdown",
   "metadata": {},
   "source": [
    "> 术语：微调：一种迁移学习技术，通过使用与预训练不同的任务进行额外 epoch 的训练来更新预训练模型的参数。"
   ]
  },
  {
   "cell_type": "markdown",
   "metadata": {},
   "source": [
    "当你使用`fine_tune`方法时，fastai会为你使用这些技巧。 你可以设置一些参数（我们将在稍后讨论），但在此处显示的默认形式中，它执行两个步骤：\n",
    "\n",
    "1. 使用一个 epoch 来拟合模型中使新的随机头正确处理数据集所需的那些部分。\n",
    "1. 使用调用该方法时请求的 epoch 数来拟合整个模型，更新后面层（尤其是头部）的权重比前面层更快（正如我们将看到的，通常不需要很多 与预训练权重的变化）。\n",
    "\n",
    "模型的 `head` 是新添加的特定于新数据集的部分。 一个 *epoch* 是对数据集的一次完整遍历。 调用 `fit` 后，会打印每个时期后的结果，显示时期编号、训练和验证集损失（用于训练模型的“性能衡量标准”）以及你请求的任何*指标*（本例中指错误率）。"
   ]
  },
  {
   "cell_type": "markdown",
   "metadata": {},
   "source": [
    "因此，通过所有这些代码，我们的模型学会了仅从标记的示例中识别猫和狗。 但它是怎么做到的呢？"
   ]
  },
  {
   "cell_type": "markdown",
   "metadata": {},
   "source": [
    "### 我们的图像识别器学到了什么"
   ]
  },
  {
   "cell_type": "markdown",
   "metadata": {},
   "source": [
    "在这个阶段，我们有一个运行良好的图像识别器，但我们不知道它实际上在做什么！ 尽管许多人抱怨深度学习会产生难以理解的“黑匣子”模型（即给出预测但无人理解的模型），但这确实与事实相去甚远。 有大量研究表明如何深入检查深度学习模型并从中获得丰富的见解。 话虽如此，完全理解各种机器学习模型（包括深度学习和传统统计模型）可能具有挑战性，特别是当考虑到它们在遇到与用于训练它们的数据非常不同的数据时将如何表现时。 我们将在本书中讨论这个问题。\n",
    "\n",
    "2013 年，博士生 Matt Zeiler 和他的导师 Rob Fergus 发表了论文 [“可视化和理解卷积网络”](https://arxiv.org/pdf/1311.2901.pdf)，该论文展示了如何可视化卷积网络 在模型的每一层中学习的神经网络权重。 他们仔细分析了2012年ImageNet比赛获胜的模型，并利用这个分析极大地改进了模型，使得他们能够继续赢得2013年的比赛！ <<img_layer1>> 是他们发布的第一层权重的图片。"
   ]
  },
  {
   "cell_type": "markdown",
   "metadata": {},
   "source": [
    "<img src=\"images/layer1.png\" alt=\"Activations of the first layer of a CNN\" width=\"300\" caption=\"Activations of the first layer of a CNN (courtesy of Matthew D. Zeiler and Rob Fergus)\" id=\"img_layer1\">"
   ]
  },
  {
   "cell_type": "markdown",
   "metadata": {},
   "source": [
    "这张图需要一些解释。 对于每一层，浅灰色背景的图像部分显示重建的权重图片，底部较大的部分显示与每组权重最匹配的训练图像部分。 对于第 1 层，我们可以看到模型发现了代表对角线、水平和垂直边缘以及各种不同梯度的权重。 （请注意，对于每一层，仅显示特征的子集；实际上，所有层中都有数千个特征。）这些是模型为计算机视觉学习的基本构建块。 神经科学家和计算机视觉研究人员对它们进行了广泛的分析，事实证明，这些学习的构建模块与人眼的基本视觉机制以及在人工智能时代之前开发的手工计算机视觉功能非常相似。 深度学习。 下一层由 <<img_layer2>> 表示。"
   ]
  },
  {
   "cell_type": "markdown",
   "metadata": {},
   "source": [
    "<img src=\"images/layer2.png\" alt=\"Activations of the second layer of a CNN\" width=\"800\" caption=\"Activations of the second layer of a CNN (courtesy of Matthew D. Zeiler and Rob Fergus)\" id=\"img_layer2\">"
   ]
  },
  {
   "cell_type": "markdown",
   "metadata": {},
   "source": [
    "对于第 2 层，模型找到的每个特征都有九个权重重建示例。 我们可以看到该模型已经学会了创建特征检测器来寻找角点、重复线、圆圈和其他简单图案。 它们是根据第一层开发的基本构建块构建的。 对于其中的每一个，图片的右侧显示了这些特征最匹配的实际图像中的小块。 例如，第 2 行第 1 列中的特定图案与与日落相关的渐变和纹理相匹配。\n",
    "\n",
    "<<img_layer3>> 显示了论文中的图像，显示了重建第 3 层特征的结果。"
   ]
  },
  {
   "cell_type": "markdown",
   "metadata": {},
   "source": [
    "<img src=\"images/chapter2_layer3.PNG\" alt=\"Activations of the third layer of a CNN\" width=\"800\" caption=\"Activations of the third layer of a CNN (courtesy of Matthew D. Zeiler and Rob Fergus)\" id=\"img_layer3\">"
   ]
  },
  {
   "cell_type": "markdown",
   "metadata": {},
   "source": [
    "正如你通过查看此图片的右侧所看到的，这些功能现在能够识别并匹配更高级别的语义组件，例如车轮、文本和花瓣。 使用这些组件，第四层和第五层可以识别更高级别的概念，如 <<img_layer4>> 所示。"
   ]
  },
  {
   "cell_type": "markdown",
   "metadata": {},
   "source": [
    "<img src=\"images/chapter2_layer4and5.PNG\" alt=\"Activations of layers 4 and 5 of a CNN\" width=\"800\" caption=\"Activations of layers 4 and 5 of a CNN (courtesy of Matthew D. Zeiler and Rob Fergus)\" id=\"img_layer4\">"
   ]
  },
  {
   "cell_type": "markdown",
   "metadata": {},
   "source": [
    "本文研究的是一种名为 *AlexNet* 的旧模型，该模型仅包含五层。 此后开发的网络可以有数百层——所以你可以想象这些模型开发的特征有多么丰富！\n",
    "\n",
    "当我们早些时候对预训练模型进行微调时，我们调整了最后一层关注的内容（花、人类、动物），以专门解决猫与狗的问题。 更一般地说，我们可以将这样的预训练模型专门用于许多不同的任务。 让我们看一些例子。"
   ]
  },
  {
   "cell_type": "markdown",
   "metadata": {},
   "source": [
    "### 图像识别器可以处理非图像任务"
   ]
  },
  {
   "cell_type": "markdown",
   "metadata": {},
   "source": [
    "顾名思义，图像识别器只能识别图像。 但很多东西都可以用图像来表示，这意味着图像识别器可以学习完成许多任务。\n",
    "\n",
    "例如，声音可以转换为频谱图，频谱图是显示音频文件中每个时间每个频率数量的图表。 Fast.ai 学生 Ethan Sutin 使用这种方法轻松击败了最先进的[环境声音检测模型](https://medium.com/@etown/great-results-on-audio- classification-with-fastai-library-ccaf906c5f52）使用包含 8,732 个城市声音的数据集。 fastai 的 `show_batch` 清楚地显示了每种不同的声音如何具有非常独特的频谱图，正如你在 <<img_spect>> 中看到的那样。"
   ]
  },
  {
   "cell_type": "markdown",
   "metadata": {},
   "source": [
    "<img alt=\"show_batch with spectrograms of sounds\" width=\"400\" caption=\"show_batch with spectrograms of sounds\" id=\"img_spect\" src=\"images/att_00012.png\">"
   ]
  },
  {
   "cell_type": "markdown",
   "metadata": {},
   "source": [
    "只需将时间序列绘制在图表上，即可轻松将时间序列转换为图像。 然而，尝试以一种能够尽可能轻松地提取出最重要组件的方式表示数据通常是一个好主意。 在时间序列中，季节性和异常等事物最有可能引起人们的兴趣。 时间序列数据有多种可用的转换。 例如，fast.ai 的学生 Ignacio Oguiza 使用一种称为格拉米安角差场 (GADF) 的技术，从时间序列数据集创建了用于橄榄油分类的图像； 你可以在<<ts_image>>中看到结果。 然后，他将这些图像输入图像分类模型，就像你在本章中看到的那样。 尽管只有 30 个训练集图像，他的结果却远远超过 90%，并且接近最先进的水平。"
   ]
  },
  {
   "cell_type": "markdown",
   "metadata": {},
   "source": [
    "<img alt=\"Converting a time series into an image\" width=\"700\" caption=\"Converting a time series into an image\" id=\"ts_image\" src=\"images/att_00013.png\">"
   ]
  },
  {
   "cell_type": "markdown",
   "metadata": {},
   "source": [
    "另一个有趣的 fast.ai 学生项目示例来自 Gleb Esman。 他在 Splunk 从事欺诈检测工作，使用用户鼠标移动和鼠标点击的数据集。 他通过绘制图像将这些变成图片，其中使用彩色线条显示鼠标指针的位置、速度和加速度，并使用[小彩色圆圈]显示点击(https://www.splunk.com/en_us) /blog/security/deep-learning-with-splunk-and-tensorflow-for-security-捕捉-the-fraudster-in-neural-networks-with-behavioral-biometrics.html），如<<splunk>>所示 。 然后，他将其输入到图像识别模型中，就像我们在本章中使用的模型一样，它运行得非常好，以至于为这种欺诈分析方法申请了专利！"
   ]
  },
  {
   "cell_type": "markdown",
   "metadata": {},
   "source": [
    "<img alt=\"Converting computer mouse behavior to an image\" width=\"450\" caption=\"Converting computer mouse behavior to an image\" id=\"splunk\" src=\"images/att_00014.png\">"
   ]
  },
  {
   "cell_type": "markdown",
   "metadata": {},
   "source": [
    "另一个例子来自 Mahmoud Kalash 等人的论文 [“Malware Classification with Deep Convolutional Neural Networks”](https://ieeexplore.ieee.org/abstract/document/8328749)，其中解释说“恶意软件二进制文件是 分成 8 位序列，然后转换为等效的十进制值。该十进制向量被重新整形，并生成代表恶意软件样本的灰度图像，”就像在 <<malware_proc>> 中一样。"
   ]
  },
  {
   "cell_type": "markdown",
   "metadata": {},
   "source": [
    "<img alt=\"Malware classification process\" width=\"623\" caption=\"Malware classification process\" id=\"malware_proc\" src=\"images/att_00055.png\">"
   ]
  },
  {
   "cell_type": "markdown",
   "metadata": {},
   "source": [
    "然后，作者将通过此过程生成的不同类别的恶意软件“图片”显示出来，如<<malware_eg>>所示。"
   ]
  },
  {
   "cell_type": "markdown",
   "metadata": {},
   "source": [
    "<img alt=\"Malware examples\" width=\"650\" caption=\"Malware examples\" id=\"malware_eg\" src=\"images/att_00056.png\">"
   ]
  },
  {
   "cell_type": "markdown",
   "metadata": {},
   "source": [
    "正如你所看到的，不同类型的恶意软件在人眼看来非常不同。 研究人员基于这种图像表示训练的模型在恶意软件分类方面比学术文献中显示的任何先前方法都更准确。 这表明将数据集转换为图像表示的一个很好的经验法则：如果人眼可以从图像中识别类别，那么深度学习模型也应该能够做到这一点。\n",
    "\n",
    "一般来说，你会发现，如果你在表示数据的方式上有点创意，深度学习中的少量通用方法可以大有帮助！ 你不应该将此处描述的方法视为“黑客解决方法”，因为实际上它们经常（如此处）击败了以前最先进的结果。 这些确实是思考这些问题领域的正确方法。"
   ]
  },
  {
   "cell_type": "markdown",
   "metadata": {},
   "source": [
    "### 术语回顾"
   ]
  },
  {
   "cell_type": "markdown",
   "metadata": {},
   "source": [
    "我们刚刚涵盖了很多信息，所以让我们简要回顾一下，<<dljargon>> 提供了一个方便的词汇表。\n",
    "\n",
    "```asciidoc\n",
    "[[术语]]\n",
    ".深度学习词汇\n",
    "[options=\"header\"]\n",
    "|=====\n",
    "| 术语 | 含义\n",
    "|标签 | 我们尝试预测的数据，例如“狗”或“猫”\n",
    "|架构 | 我们尝试拟合的模型的_template_； 我们将输入数据和参数传递给的实际数学函数\n",
    "|型号 | 架构与一组特定参数的组合\n",
    "|参数 | 模型中的值会改变它可以执行的任务，并通过模型训练进行更新\n",
    "|Fit | 更新模型的参数，使得使用输入数据的模型的预测与目标标签匹配\n",
    "|训练 | fit 的同义词\n",
    "|预训练模型 | 已经训练好的模型，通常使用大型数据集，并将进行微调\n",
    "|微调 | 为不同的任务更新预训练模型\n",
    "|Epoch | 一次完整地传递输入数据\n",
    "|损失 | 衡量模型好坏的指标，选择通过 SGD 来驱动训练\n",
    "|Metric | 使用供人类消费选择的验证集来衡量模型的好坏\n",
    "|验证集 | 训练中保留的一组数据，仅用于衡量模型的好坏\n",
    "|Training set | 用于拟合模型的数据； 不包含验证集中的任何数据\n",
    "|过拟合 | 以__记住__输入数据的特定特征的方式训练模型，而不是很好地概括训练期间未见过的数据\n",
    "|卷积神经网络 | 卷积神经网络； 一种特别适合计算机视觉任务的神经网络\n",
    "|=====\n",
    "```"
   ]
  },
  {
   "cell_type": "markdown",
   "metadata": {},
   "source": [
    "有了这些词汇，我们现在就可以将迄今为止介绍的所有关键概念汇集在一起。 花点时间回顾一下这些定义并阅读以下摘要。 如果你能听懂解释，那么你就有能力理解接下来的讨论。\n",
    "\n",
    "*机器学习*是一门学科，我们不是通过完全自己编写程序来定义程序，而是通过从数据中学习来定义程序。 *深度学习*是机器学习中的一个专业，它使用具有多个*层*的*神经网络*。 *图像分类*是一个代表性示例（也称为*图像识别*）。 我们从*标记数据*开始； 也就是说，我们为每个图像分配了一个*标签*来指示它所代表的内容的一组图像。 我们的目标是生成一个称为*模型*的程序，在给定新图像的情况下，该程序将对该新图像所代表的内容做出准确的*预测*。\n",
    "\n",
    "每个模型都从选择*架构*开始，这是该模型内部工作方式的通用模板。 *训练*（或*拟合*）模型的过程是寻找一组*参数值*（或*权重*）的过程，这些参数值将通用架构专门化为适合我们特定类型数据的模型。 为了定义模型在单个预测上的表现，我们需要定义一个*损失函数*，它决定了我们如何对预测进行评分。\n",
    "\n",
    "为了使训练过程更快，我们可以从*预训练模型*开始——一个已经在其他人的数据上训练过的模型。 然后，我们可以通过对我们的数据进行更多训练来使其适应我们的数据，这个过程称为*微调*。\n",
    "\n",
    "当我们训练模型时，一个关键问题是确保我们的模型*泛化*——也就是说，它从我们的数据中学习一般经验教训，这些教训也适用于它将遇到的新项目，以便它可以对这些项目做出良好的预测 。 风险在于，如果我们的模型训练不当，它就会有效地记住已经看到的内容，而不是学习一般的课程，然后它会对新图像做出糟糕的预测。 这种失败称为*过度拟合*。 为了避免这种情况，我们总是将数据分为两部分，*训练集*和*验证集*。 我们通过仅显示训练集来训练模型，然后通过查看模型在验证集中的项目上的表现来评估模型的表现。 通过这种方式，我们检查模型从训练集中学到的教训是否可以推广到验证集。 为了让人们评估模型在验证集上的整体表现如何，我们定义了一个*指标*。 在训练过程中，当模型看到训练集中的每个项目时，我们将其称为*纪元*。\n",
    "\n",
    "所有这些概念一般都适用于机器学习。 也就是说，它们适用于通过用数据训练来定义模型的各种方案。 深度学习的独特之处在于一类特定的架构：基于*神经网络*的架构。 特别是，图像分类等任务严重依赖*卷积神经网络*，我们将很快讨论。"
   ]
  },
  {
   "cell_type": "markdown",
   "metadata": {},
   "source": [
    "## 深度学习不仅仅用于图像分类"
   ]
  },
  {
   "cell_type": "markdown",
   "metadata": {},
   "source": [
    "近年来，深度学习在图像分类方面的有效性已被广泛讨论，甚至在 CT 扫描中识别恶性肿瘤等复杂任务上显示出*超人*的结果。 但正如我们将在这里展示的那样，它的作用远不止于此。\n",
    "\n",
    "例如，我们来谈谈对于自动驾驶汽车至关重要的事情：定位图片中的对象。 如果自动驾驶汽车不知道行人在哪里，那么它就不知道如何避开行人！ 创建一个可以识别图像中每个像素内容的模型称为*分割*。 以下是我们如何使用 [*Camvid* 数据集](http://www0.cs.ucl.ac.uk/staff/G.Brostow/papers/Brostow_2009-PRL. pdf）摘自 Gabruel J. Brostow、Julien Fauqueur 和 Roberto Cipolla 撰写的论文*视频中的语义对象类：高清地面实况数据库*："
   ]
  },
  {
   "cell_type": "code",
   "execution_count": null,
   "metadata": {},
   "outputs": [
    {
     "data": {
      "text/html": [
       "<table border=\"1\" class=\"dataframe\">\n",
       "  <thead>\n",
       "    <tr style=\"text-align: left;\">\n",
       "      <th>epoch</th>\n",
       "      <th>train_loss</th>\n",
       "      <th>valid_loss</th>\n",
       "      <th>time</th>\n",
       "    </tr>\n",
       "  </thead>\n",
       "  <tbody>\n",
       "    <tr>\n",
       "      <td>0</td>\n",
       "      <td>2.641862</td>\n",
       "      <td>2.140568</td>\n",
       "      <td>00:02</td>\n",
       "    </tr>\n",
       "  </tbody>\n",
       "</table>"
      ],
      "text/plain": [
       "<IPython.core.display.HTML object>"
      ]
     },
     "metadata": {},
     "output_type": "display_data"
    },
    {
     "data": {
      "text/html": [
       "<table border=\"1\" class=\"dataframe\">\n",
       "  <thead>\n",
       "    <tr style=\"text-align: left;\">\n",
       "      <th>epoch</th>\n",
       "      <th>train_loss</th>\n",
       "      <th>valid_loss</th>\n",
       "      <th>time</th>\n",
       "    </tr>\n",
       "  </thead>\n",
       "  <tbody>\n",
       "    <tr>\n",
       "      <td>0</td>\n",
       "      <td>1.624964</td>\n",
       "      <td>1.464210</td>\n",
       "      <td>00:02</td>\n",
       "    </tr>\n",
       "    <tr>\n",
       "      <td>1</td>\n",
       "      <td>1.454148</td>\n",
       "      <td>1.284032</td>\n",
       "      <td>00:02</td>\n",
       "    </tr>\n",
       "    <tr>\n",
       "      <td>2</td>\n",
       "      <td>1.342955</td>\n",
       "      <td>1.048562</td>\n",
       "      <td>00:02</td>\n",
       "    </tr>\n",
       "    <tr>\n",
       "      <td>3</td>\n",
       "      <td>1.199765</td>\n",
       "      <td>0.852787</td>\n",
       "      <td>00:02</td>\n",
       "    </tr>\n",
       "    <tr>\n",
       "      <td>4</td>\n",
       "      <td>1.078090</td>\n",
       "      <td>0.838206</td>\n",
       "      <td>00:02</td>\n",
       "    </tr>\n",
       "    <tr>\n",
       "      <td>5</td>\n",
       "      <td>0.975496</td>\n",
       "      <td>0.746806</td>\n",
       "      <td>00:02</td>\n",
       "    </tr>\n",
       "    <tr>\n",
       "      <td>6</td>\n",
       "      <td>0.892793</td>\n",
       "      <td>0.725384</td>\n",
       "      <td>00:02</td>\n",
       "    </tr>\n",
       "    <tr>\n",
       "      <td>7</td>\n",
       "      <td>0.827645</td>\n",
       "      <td>0.726778</td>\n",
       "      <td>00:02</td>\n",
       "    </tr>\n",
       "  </tbody>\n",
       "</table>"
      ],
      "text/plain": [
       "<IPython.core.display.HTML object>"
      ]
     },
     "metadata": {},
     "output_type": "display_data"
    }
   ],
   "source": [
    "path = untar_data(URLs.CAMVID_TINY)\n",
    "dls = SegmentationDataLoaders.from_label_func(\n",
    "    path, bs=8, fnames = get_image_files(path/\"images\"),\n",
    "    label_func = lambda o: path/'labels'/f'{o.stem}_P{o.suffix}',\n",
    "    codes = np.loadtxt(path/'codes.txt', dtype=str)\n",
    ")\n",
    "\n",
    "learn = unet_learner(dls, resnet34)\n",
    "learn.fine_tune(8)"
   ]
  },
  {
   "cell_type": "markdown",
   "metadata": {},
   "source": [
    "我们甚至不打算逐行浏览此代码，因为它与我们之前的示例几乎相同！ （尽管我们将在<<chapter_arch_details>>中深入研究分段模型，以及我们在本章中简要介绍的所有其他模型，以及更多。）\n",
    "\n",
    "通过要求模型对图像的每个像素进行颜色编码，我们可以直观地看到它完成任务的效果。 正如你所看到的，它几乎完美地对每个对象中的每个像素进行了分类。 例如，请注意，所有汽车都覆盖有相同的颜色，所有树木都覆盖有相同的颜色（在每对图像中，左侧图像是地面实况标签，右侧图像是模型的预测 ）："
   ]
  },
  {
   "cell_type": "code",
   "execution_count": null,
   "metadata": {},
   "outputs": [
    {
     "data": {
      "text/html": [],
      "text/plain": [
       "<IPython.core.display.HTML object>"
      ]
     },
     "metadata": {},
     "output_type": "display_data"
    },
    {
     "data": {
      "image/png": "[encoded data removed]",
      "text/plain": [
       "<Figure size 504x576 with 4 Axes>"
      ]
     },
     "metadata": {
      "needs_background": "light"
     },
     "output_type": "display_data"
    }
   ],
   "source": [
    "learn.show_results(max_n=6, figsize=(7,8))"
   ]
  },
  {
   "cell_type": "markdown",
   "metadata": {},
   "source": [
    "深度学习在过去几年中取得显着进步的另一个领域是自然语言处理（NLP）。 计算机现在可以生成文本、自动从一种语言翻译成另一种语言、分析评论、标记句子中的单词等等。 以下是训练一个模型所需的所有代码，该模型可以比五年前世界上存在的任何东西更好地对电影评论的情绪进行分类："
   ]
  },
  {
   "cell_type": "code",
   "execution_count": null,
   "metadata": {},
   "outputs": [
    {
     "data": {
      "text/html": [
       "<table border=\"1\" class=\"dataframe\">\n",
       "  <thead>\n",
       "    <tr style=\"text-align: left;\">\n",
       "      <th>epoch</th>\n",
       "      <th>train_loss</th>\n",
       "      <th>valid_loss</th>\n",
       "      <th>accuracy</th>\n",
       "      <th>time</th>\n",
       "    </tr>\n",
       "  </thead>\n",
       "  <tbody>\n",
       "    <tr>\n",
       "      <td>0</td>\n",
       "      <td>0.878776</td>\n",
       "      <td>0.748753</td>\n",
       "      <td>0.500400</td>\n",
       "      <td>01:27</td>\n",
       "    </tr>\n",
       "  </tbody>\n",
       "</table>"
      ],
      "text/plain": [
       "<IPython.core.display.HTML object>"
      ]
     },
     "metadata": {},
     "output_type": "display_data"
    },
    {
     "data": {
      "text/html": [
       "<table border=\"1\" class=\"dataframe\">\n",
       "  <thead>\n",
       "    <tr style=\"text-align: left;\">\n",
       "      <th>epoch</th>\n",
       "      <th>train_loss</th>\n",
       "      <th>valid_loss</th>\n",
       "      <th>accuracy</th>\n",
       "      <th>time</th>\n",
       "    </tr>\n",
       "  </thead>\n",
       "  <tbody>\n",
       "    <tr>\n",
       "      <td>0</td>\n",
       "      <td>0.679118</td>\n",
       "      <td>0.674778</td>\n",
       "      <td>0.584040</td>\n",
       "      <td>02:45</td>\n",
       "    </tr>\n",
       "    <tr>\n",
       "      <td>1</td>\n",
       "      <td>0.653671</td>\n",
       "      <td>0.670396</td>\n",
       "      <td>0.618040</td>\n",
       "      <td>02:55</td>\n",
       "    </tr>\n",
       "    <tr>\n",
       "      <td>2</td>\n",
       "      <td>0.598665</td>\n",
       "      <td>0.551815</td>\n",
       "      <td>0.718920</td>\n",
       "      <td>05:28</td>\n",
       "    </tr>\n",
       "    <tr>\n",
       "      <td>3</td>\n",
       "      <td>0.556812</td>\n",
       "      <td>0.507450</td>\n",
       "      <td>0.752480</td>\n",
       "      <td>03:11</td>\n",
       "    </tr>\n",
       "  </tbody>\n",
       "</table>"
      ],
      "text/plain": [
       "<IPython.core.display.HTML object>"
      ]
     },
     "metadata": {},
     "output_type": "display_data"
    }
   ],
   "source": [
    "from fastai.text.all import *\n",
    "\n",
    "dls = TextDataLoaders.from_folder(untar_data(URLs.IMDB), valid='test')\n",
    "learn = text_classifier_learner(dls, AWD_LSTM, drop_mult=0.5, metrics=accuracy)\n",
    "learn.fine_tune(4, 1e-2)"
   ]
  },
  {
   "cell_type": "markdown",
   "metadata": {},
   "source": [
    "# clean\n",
    "如果运行此单元后遇到“CUDA 内存不足错误”，请单击菜单“内核”，然后重新启动。 不要执行上面的单元格，而是将以下代码复制并粘贴到其中：\n",
    "\n",
    "```\n",
    "from fastai.text.all import *\n",
    "\n",
    "dls = TextDataLoaders.from_folder(untar_data(URLs.IMDB), valid='test', bs=32)\n",
    "learn = text_classifier_learner(dls, AWD_LSTM, drop_mult=0.5, metrics=accuracy)\n",
    "learn.fine_tune(4, 1e-2)\n",
    "```\n",
    "\n",
    "这会将批量大小减少到 32（我们将在稍后解释）。 如果你继续遇到相同的错误，请将 32 更改为 16。"
   ]
  },
  {
   "cell_type": "markdown",
   "metadata": {},
   "source": [
    "该模型使用 Andrew Maas 的论文“学习词向量进行情感分析”中的 [“IMDb 大型电影评论数据集”](https://ai.stanford.edu/~ang/papers/acl11-WordVectorsSentimentAnalysis.pdf) 等人。 它适用于数千字的电影评论，但让我们在一篇非常短的电影评论上测试一下，看看它是如何工作的："
   ]
  },
  {
   "cell_type": "code",
   "execution_count": null,
   "metadata": {},
   "outputs": [
    {
     "data": {
      "text/html": [],
      "text/plain": [
       "<IPython.core.display.HTML object>"
      ]
     },
     "metadata": {},
     "output_type": "display_data"
    },
    {
     "data": {
      "text/plain": [
       "('neg', tensor(0), tensor([0.8786, 0.1214]))"
      ]
     },
     "execution_count": null,
     "metadata": {},
     "output_type": "execute_result"
    }
   ],
   "source": [
    "learn.predict(\"I really liked that movie!\")"
   ]
  },
  {
   "cell_type": "markdown",
   "metadata": {},
   "source": [
    "在这里我们可以看到模型认为评论是积极的。 结果的第二部分是我们数据词汇中“pos”的索引，最后一部分是归因于每个类别的概率（“pos”为 99.6%，“neg”为 0.4%）。\n",
    "\n",
    "现在轮到你了！ 写下你自己的迷你电影评论，或者从互联网上复制一篇，你就可以看到这个模型对此的看法。"
   ]
  },
  {
   "cell_type": "markdown",
   "metadata": {},
   "source": [
    "### 侧边栏：顺序很重要"
   ]
  },
  {
   "cell_type": "markdown",
   "metadata": {},
   "source": [
    "在 Jupyter Notebook 中，执行每个单元的顺序非常重要。 它不像 Excel，只要你在任何地方键入内容，所有内容都会更新，它有一个内部状态，每次执行单元格时都会更新。 例如，当你运行笔记本的第一个单元格（带有“CLICK ME”注释）时，你将创建一个名为“learn”的对象，其中包含图像分类问题的模型和数据。 如果我们要立即运行文本中显示的单元格（预测评论是否良好的单元格），我们会收到错误，因为此“学习”对象不包含文本分类模型。 该单元需要在包含以下内容的单元之后运行：\n",
    "\n",
    "```python\n",
    "from fastai.text.all import *\n",
    "\n",
    "dls = TextDataLoaders.from_folder(untar_data(URLs.IMDB), valid='test')\n",
    "learn = text_classifier_learner(dls, AWD_LSTM, drop_mult=0.5, \n",
    "                                metrics=accuracy)\n",
    "learn.fine_tune(4, 1e-2)\n",
    "```\n",
    "\n",
    "输出本身可能具有欺骗性，因为它们包含上次执行单元的结果； 如果你更改单元格内的代码而不执行它，则旧的（误导性的）结果将保留。\n",
    "\n",
    "除非我们明确提及，否则[书籍网站](https://book.fast.ai/) 上提供的笔记本应该按从上到下的顺序运行。 一般来说，在实验时，你会发现自己以任意顺序执行单元以加快速度（这是 Jupyter Notebook 的一个超级简洁的功能），但是一旦你探索并达到了代码的最终版本，请确保你可以运行 按顺序排列笔记本的单元格（未来的自己不一定会记得你所走的复杂路径！）。\n",
    "\n",
    "在命令模式下，按两次“0”将重新启动*内核*（这是为笔记本电脑提供动力的引擎）。 这将清除你的状态并使它就像你刚刚在笔记本中开始一样。 从“单元格”菜单中选择“运行所有上方”可运行你所在位置上方的所有单元格。 我们发现这在开发 fastai 库时非常有用。"
   ]
  },
  {
   "cell_type": "markdown",
   "metadata": {},
   "source": [
    "### 结束侧边栏"
   ]
  },
  {
   "cell_type": "markdown",
   "metadata": {},
   "source": [
    "如果你对 fastai 方法有任何疑问，你应该使用函数“doc”，并向其传递方法名称：\n",
    "\n",
    "```python\n",
    "doc(learn.predict)\n",
    "```\n",
    "\n",
    "这将弹出一个小窗口，其中包含如下内容：\n",
    "\n",
    "<img src=\"images/doc_ex.png\" width=\"600\">"
   ]
  },
  {
   "cell_type": "markdown",
   "metadata": {},
   "source": [
    "`doc`提供了简短的一行解释。 “在文档中显示”链接将带你访问完整的文档，你可以在其中找到所有详细信息和大量示例。 此外，fastai 的大多数方法都只是几行代码，因此你可以单击“源”链接来查看幕后到底发生了什么。\n",
    "\n",
    "让我们继续讨论一些不那么吸引人的事情，但可能在商业上更有用：从简单的“表格”数据构建模型。"
   ]
  },
  {
   "cell_type": "markdown",
   "metadata": {},
   "source": [
    "> 术语：表格：表格形式的数据，例如来自电子表格、数据库或 CSV 文件的数据。 表格模型是一种尝试根据表中其他列中的信息来预测表中某一列的模型。"
   ]
  },
  {
   "cell_type": "markdown",
   "metadata": {},
   "source": [
    "事实证明，看起来也非常相似。 以下是训练模型所需的代码，该模型将根据一个人的社会经济背景预测其是否是高收入者："
   ]
  },
  {
   "cell_type": "code",
   "execution_count": null,
   "metadata": {},
   "outputs": [],
   "source": [
    "from fastai.tabular.all import *\n",
    "path = untar_data(URLs.ADULT_SAMPLE)\n",
    "\n",
    "dls = TabularDataLoaders.from_csv(path/'adult.csv', path=path, y_names=\"salary\",\n",
    "    cat_names = ['workclass', 'education', 'marital-status', 'occupation',\n",
    "                 'relationship', 'race'],\n",
    "    cont_names = ['age', 'fnlwgt', 'education-num'],\n",
    "    procs = [Categorify, FillMissing, Normalize])\n",
    "\n",
    "learn = tabular_learner(dls, metrics=accuracy)"
   ]
  },
  {
   "cell_type": "markdown",
   "metadata": {},
   "source": [
    "正如你所看到的，我们必须告诉 fastai 哪些列是*分类*（即包含属于一组离散选择之一的值，例如`职业`），哪些列是*连续*（即包含数字 代表一个数量，例如`年龄`）。\n",
    "\n",
    "没有可用于此任务的预训练模型（一般来说，预训练模型并不广泛用于任何表格建模任务，尽管一些组织已经创建了它们供内部使用），因此在这种情况下我们不使用 `fine_tune`。 相反，我们使用`fit_one_cycle`，这是*从头开始*训练 fastai 模型最常用的方法（即没有迁移学习）："
   ]
  },
  {
   "cell_type": "code",
   "execution_count": null,
   "metadata": {},
   "outputs": [
    {
     "data": {
      "text/html": [
       "<table border=\"1\" class=\"dataframe\">\n",
       "  <thead>\n",
       "    <tr style=\"text-align: left;\">\n",
       "      <th>epoch</th>\n",
       "      <th>train_loss</th>\n",
       "      <th>valid_loss</th>\n",
       "      <th>accuracy</th>\n",
       "      <th>time</th>\n",
       "    </tr>\n",
       "  </thead>\n",
       "  <tbody>\n",
       "    <tr>\n",
       "      <td>0</td>\n",
       "      <td>0.372397</td>\n",
       "      <td>0.357177</td>\n",
       "      <td>0.832463</td>\n",
       "      <td>00:08</td>\n",
       "    </tr>\n",
       "    <tr>\n",
       "      <td>1</td>\n",
       "      <td>0.351544</td>\n",
       "      <td>0.341505</td>\n",
       "      <td>0.841523</td>\n",
       "      <td>00:08</td>\n",
       "    </tr>\n",
       "    <tr>\n",
       "      <td>2</td>\n",
       "      <td>0.338763</td>\n",
       "      <td>0.339184</td>\n",
       "      <td>0.845670</td>\n",
       "      <td>00:08</td>\n",
       "    </tr>\n",
       "  </tbody>\n",
       "</table>"
      ],
      "text/plain": [
       "<IPython.core.display.HTML object>"
      ]
     },
     "metadata": {},
     "output_type": "display_data"
    }
   ],
   "source": [
    "learn.fit_one_cycle(3)"
   ]
  },
  {
   "cell_type": "markdown",
   "metadata": {},
   "source": [
    "该模型使用[*Adult*数据集](http://robotics.stanford.edu/~ronnyk/nbtree.pdf)，来自论文“Scaling Up the Accuracy of Naive-Bayes Classifiers: a Decision-Tree Hybrid” 由 Rob Kohavi 编写，其中包含有关个人的一些人口统计数据（例如他们的教育程度、婚姻状况、种族、性别以及他们的年收入是否超过 5 万美元）。 该模型的准确率超过 80%，训练时间约为 30 秒。"
   ]
  },
  {
   "cell_type": "markdown",
   "metadata": {},
   "source": [
    "我们再看一个。 推荐系统非常重要，尤其是在电子商务中。 亚马逊和Netflix等公司努力推荐用户可能喜欢的产品或电影。 以下是如何使用 [MovieLens 数据集](https://doi.org/10.1145/2827872) 训练一个模型，根据人们之前的观看习惯来预测人们可能喜欢的电影："
   ]
  },
  {
   "cell_type": "code",
   "execution_count": null,
   "metadata": {},
   "outputs": [
    {
     "data": {
      "text/html": [
       "<table border=\"1\" class=\"dataframe\">\n",
       "  <thead>\n",
       "    <tr style=\"text-align: left;\">\n",
       "      <th>epoch</th>\n",
       "      <th>train_loss</th>\n",
       "      <th>valid_loss</th>\n",
       "      <th>time</th>\n",
       "    </tr>\n",
       "  </thead>\n",
       "  <tbody>\n",
       "    <tr>\n",
       "      <td>0</td>\n",
       "      <td>1.510897</td>\n",
       "      <td>1.410028</td>\n",
       "      <td>00:00</td>\n",
       "    </tr>\n",
       "  </tbody>\n",
       "</table>"
      ],
      "text/plain": [
       "<IPython.core.display.HTML object>"
      ]
     },
     "metadata": {},
     "output_type": "display_data"
    },
    {
     "data": {
      "text/html": [
       "<table border=\"1\" class=\"dataframe\">\n",
       "  <thead>\n",
       "    <tr style=\"text-align: left;\">\n",
       "      <th>epoch</th>\n",
       "      <th>train_loss</th>\n",
       "      <th>valid_loss</th>\n",
       "      <th>time</th>\n",
       "    </tr>\n",
       "  </thead>\n",
       "  <tbody>\n",
       "    <tr>\n",
       "      <td>0</td>\n",
       "      <td>1.375435</td>\n",
       "      <td>1.350930</td>\n",
       "      <td>00:00</td>\n",
       "    </tr>\n",
       "    <tr>\n",
       "      <td>1</td>\n",
       "      <td>1.270062</td>\n",
       "      <td>1.173962</td>\n",
       "      <td>00:00</td>\n",
       "    </tr>\n",
       "    <tr>\n",
       "      <td>2</td>\n",
       "      <td>1.023159</td>\n",
       "      <td>0.879298</td>\n",
       "      <td>00:00</td>\n",
       "    </tr>\n",
       "    <tr>\n",
       "      <td>3</td>\n",
       "      <td>0.797398</td>\n",
       "      <td>0.739787</td>\n",
       "      <td>00:00</td>\n",
       "    </tr>\n",
       "    <tr>\n",
       "      <td>4</td>\n",
       "      <td>0.685500</td>\n",
       "      <td>0.700903</td>\n",
       "      <td>00:00</td>\n",
       "    </tr>\n",
       "    <tr>\n",
       "      <td>5</td>\n",
       "      <td>0.646508</td>\n",
       "      <td>0.686387</td>\n",
       "      <td>00:00</td>\n",
       "    </tr>\n",
       "    <tr>\n",
       "      <td>6</td>\n",
       "      <td>0.623985</td>\n",
       "      <td>0.681087</td>\n",
       "      <td>00:00</td>\n",
       "    </tr>\n",
       "    <tr>\n",
       "      <td>7</td>\n",
       "      <td>0.606319</td>\n",
       "      <td>0.676885</td>\n",
       "      <td>00:00</td>\n",
       "    </tr>\n",
       "    <tr>\n",
       "      <td>8</td>\n",
       "      <td>0.606975</td>\n",
       "      <td>0.675833</td>\n",
       "      <td>00:00</td>\n",
       "    </tr>\n",
       "    <tr>\n",
       "      <td>9</td>\n",
       "      <td>0.602670</td>\n",
       "      <td>0.675682</td>\n",
       "      <td>00:00</td>\n",
       "    </tr>\n",
       "  </tbody>\n",
       "</table>"
      ],
      "text/plain": [
       "<IPython.core.display.HTML object>"
      ]
     },
     "metadata": {},
     "output_type": "display_data"
    }
   ],
   "source": [
    "from fastai.collab import *\n",
    "path = untar_data(URLs.ML_SAMPLE)\n",
    "dls = CollabDataLoaders.from_csv(path/'ratings.csv')\n",
    "learn = collab_learner(dls, y_range=(0.5,5.5))\n",
    "learn.fine_tune(10)"
   ]
  },
  {
   "cell_type": "markdown",
   "metadata": {},
   "source": [
    "该模型以 0.5 到 5.0 的范围来预测电影评分，平均误差在 0.6 左右。 由于我们预测的是连续数字，而不是类别，因此我们必须使用 `y_range` 参数告诉 fastai 我们的目标范围是什么。\n",
    "\n",
    "尽管我们实际上并没有使用预训练模型（与我们没有使用表格模型的原因相同），但此示例表明 fastai 允许我们在这种情况下使用 `fine_tune`（你将了解如何以及为什么这样做） 适用于<<chapter_pet_breeds>>）。 有时最好尝试使用 `fine_tune` 与 `fit_one_cycle`，看看哪种最适合你的数据集。\n",
    "\n",
    "我们可以使用之前看到的相同的 `show_results` 调用来查看用户和电影 ID、实际评分和预测的一些示例："
   ]
  },
  {
   "cell_type": "code",
   "execution_count": null,
   "metadata": {},
   "outputs": [
    {
     "data": {
      "text/html": [],
      "text/plain": [
       "<IPython.core.display.HTML object>"
      ]
     },
     "metadata": {},
     "output_type": "display_data"
    },
    {
     "data": {
      "text/html": [
       "<table border=\"1\" class=\"dataframe\">\n",
       "  <thead>\n",
       "    <tr style=\"text-align: right;\">\n",
       "      <th></th>\n",
       "      <th>userId</th>\n",
       "      <th>movieId</th>\n",
       "      <th>rating</th>\n",
       "      <th>rating_pred</th>\n",
       "    </tr>\n",
       "  </thead>\n",
       "  <tbody>\n",
       "    <tr>\n",
       "      <th>0</th>\n",
       "      <td>66.0</td>\n",
       "      <td>79.0</td>\n",
       "      <td>4.0</td>\n",
       "      <td>3.978900</td>\n",
       "    </tr>\n",
       "    <tr>\n",
       "      <th>1</th>\n",
       "      <td>97.0</td>\n",
       "      <td>15.0</td>\n",
       "      <td>4.0</td>\n",
       "      <td>3.851795</td>\n",
       "    </tr>\n",
       "    <tr>\n",
       "      <th>2</th>\n",
       "      <td>55.0</td>\n",
       "      <td>79.0</td>\n",
       "      <td>3.5</td>\n",
       "      <td>3.945623</td>\n",
       "    </tr>\n",
       "    <tr>\n",
       "      <th>3</th>\n",
       "      <td>98.0</td>\n",
       "      <td>91.0</td>\n",
       "      <td>4.0</td>\n",
       "      <td>4.458704</td>\n",
       "    </tr>\n",
       "    <tr>\n",
       "      <th>4</th>\n",
       "      <td>53.0</td>\n",
       "      <td>7.0</td>\n",
       "      <td>5.0</td>\n",
       "      <td>4.670005</td>\n",
       "    </tr>\n",
       "    <tr>\n",
       "      <th>5</th>\n",
       "      <td>26.0</td>\n",
       "      <td>69.0</td>\n",
       "      <td>5.0</td>\n",
       "      <td>4.319870</td>\n",
       "    </tr>\n",
       "    <tr>\n",
       "      <th>6</th>\n",
       "      <td>81.0</td>\n",
       "      <td>16.0</td>\n",
       "      <td>4.5</td>\n",
       "      <td>4.426761</td>\n",
       "    </tr>\n",
       "    <tr>\n",
       "      <th>7</th>\n",
       "      <td>80.0</td>\n",
       "      <td>7.0</td>\n",
       "      <td>4.0</td>\n",
       "      <td>4.046183</td>\n",
       "    </tr>\n",
       "    <tr>\n",
       "      <th>8</th>\n",
       "      <td>51.0</td>\n",
       "      <td>94.0</td>\n",
       "      <td>5.0</td>\n",
       "      <td>3.499996</td>\n",
       "    </tr>\n",
       "  </tbody>\n",
       "</table>"
      ],
      "text/plain": [
       "<IPython.core.display.HTML object>"
      ]
     },
     "metadata": {},
     "output_type": "display_data"
    }
   ],
   "source": [
    "learn.show_results()"
   ]
  },
  {
   "cell_type": "markdown",
   "metadata": {},
   "source": [
    "### 侧边栏：数据集：模型的食物"
   ]
  },
  {
   "cell_type": "markdown",
   "metadata": {},
   "source": [
    "你已经在本节中看到了相当多的模型，每个模型都使用不同的数据集进行训练来完成不同的任务。 在机器学习和深度学习中，没有数据我们就什么也做不了。 因此，为我们创建数据集来训练模型的人是（通常被低估的）英雄。 一些最有用和最重要的数据集是那些成为重要的“学术基线”的数据集； 也就是说，研究人员广泛研究并用于比较算法变化的数据集。 其中一些成为家喻户晓的名字（至少在训练模型的家庭中如此！），例如 MNIST、CIFAR-10 和 ImageNet。\n",
    "\n",
    "选择本书中使用的数据集是因为它们为你可能遇到的数据类型提供了很好的示例，并且学术文献中有许多使用这些数据集的模型结果示例，你可以将你的工作与它们进行比较。\n",
    "\n",
    "本书中使用的大多数数据集的创建者都花费了大量的工作来构建。 例如，在本书的后面，我们将向你展示如何创建一个可以在法语和英语之间进行翻译的模型。 其关键输入是宾夕法尼亚大学 Chris Callison-Burch 教授于 2009 年准备的法语/英语平行文本语料库。 该数据集包含超过 2000 万个法语和英语句子对。 他以一种非常聪明的方式构建了数据集：抓取数百万个加拿大网页（通常是多语言的），然后使用一组简单的启发式方法将法语内容的 URL 转换为指向相同英语内容的 URL。\n",
    "\n",
    "当你查看本书中的数据集时，请思考它们可能来自哪里，以及它们可能是如何策划的。 然后考虑你可以为自己的项目创建哪些类型的有趣数据集。 （我们甚至会很快引导你逐步完成创建自己的图像数据集的过程。）\n",
    "\n",
    "fast.ai 花费了大量时间创建流行数据集的精简版本，这些数据集专门用于支持快速原型设计和实验，并且更易于学习。 在本书中，我们通常会从使用一个缩小版本开始，然后放大到全尺寸版本（就像我们在本章中所做的那样！）。 事实上，世界顶尖的实践者在实践中都是这样做的； 他们使用数据子集进行大部分实验和原型设计，并且仅在充分了解自己必须做什么时才使用完整数据集。"
   ]
  },
  {
   "cell_type": "markdown",
   "metadata": {},
   "source": [
    "### 结束侧边栏"
   ]
  },
  {
   "cell_type": "markdown",
   "metadata": {},
   "source": [
    "我们训练的每个模型都显示出训练和验证损失。 良好的验证集是训练过程中最重要的部分之一。 让我们看看原因并学习如何创建一个。"
   ]
  },
  {
   "cell_type": "markdown",
   "metadata": {},
   "source": [
    "## 验证集和测试集"
   ]
  },
  {
   "cell_type": "markdown",
   "metadata": {},
   "source": [
    "正如我们所讨论的，模型的目标是对数据进行预测。 但模型训练过程从根本上来说是愚蠢的。 如果我们使用所有数据训练模型，然后使用相同的数据评估模型，我们将无法判断模型在未见过的数据上的表现如何。 如果没有这条非常有价值的信息来指导我们训练模型，它很有可能会擅长对数据进行预测，但在新数据上表现不佳。\n",
    "\n",
    "为了避免这种情况，我们的第一步是将数据集分成两组：*训练集*（我们的模型在训练中看到的）和*验证集*，也称为*开发集*（仅用于 评估）。 这让我们可以测试模型是否从训练数据中学习到了新数据（即验证数据）。\n",
    "\n",
    "理解这种情况的一种方法是，从某种意义上说，我们不希望我们的模型通过“作弊”来获得好的结果。 如果它对某个数据项做出了准确的预测，那应该是因为它已经了解了该类项目的特征，而不是因为该模型是通过*实际看到该特定项目*而形成的。\n",
    "\n",
    "分离我们的验证数据意味着我们的模型在训练中永远不会看到它，因此完全不受它的污染，并且不会以任何方式作弊。 正确的？\n",
    "\n",
    "其实也不一定。 情况更加微妙。 这是因为在现实场景中，我们很少只通过训练一次权重参数来构建模型。 相反，我们可能会通过有关网络架构、学习率、数据增强策略以及我们将在接下来的章节中讨论的其他因素的各种建模选择来探索模型的许多版本。 其中许多选择可以描述为“超参数”的选择。 这个词反映了它们是关于参数的参数，因为它们是控制权重参数含义的更高级别的选择。"
   ]
  },
  {
   "cell_type": "markdown",
   "metadata": {},
   "source": [
    "问题是，即使普通的训练过程在学习权重参数的值时仅查看训练数据的预测，但我们的情况却并非如此。 当我们决定探索新的超参数值时，作为建模者，我们正在通过查看验证数据的预测来评估模型！ 因此，模型的后续版本是由我们看到的验证数据间接塑造的。 正如自动训练过程存在过度拟合训练数据的危险一样，我们也存在通过人工试错和探索过度拟合验证数据的危险。\n",
    "\n",
    "解决这个难题的方法是引入另一个级别的保留度更高的数据，即“测试集”。 正如我们在训练过程中保留验证数据一样，我们甚至必须从我们自己那里保留测试集数据。 它不能用于改进模型； 它只能用于在我们努力结束时评估模型。 实际上，我们根据我们想要在训练和建模过程中隐藏数据的程度来定义数据切割的层次结构：训练数据完全暴露，验证数据暴露较少，测试数据完全隐藏。 这种层次结构与不同类型的建模和评估过程本身并行——具有反向传播的自动训练过程、在训练会话之间尝试不同超参数的更多手动过程以及对最终结果的评估。\n",
    "\n",
    "测试和验证集应该有足够的数据，以确保你能够很好地估计准确性。 例如，如果你要创建一个猫检测器，你通常希望验证集中至少有 30 只猫。 这意味着，如果你的数据集包含数千个项目，则使用默认的 20% 验证集大小可能会超出你的需要。 另一方面，如果你有大量数据，使用其中一些数据进行验证可能没有任何缺点。\n",
    "\n",
    "拥有两个级别的“保留数据”——验证集和测试集，其中一个级别代表你实际上对自己隐藏的数据——可能看起来有点极端。 但它往往是必要的，因为模型倾向于以最简单的方式进行良好的预测（记忆），而我们作为容易犯错的人类，则倾向于自欺欺人地认为我们的模型表现得有多好。 测试集的纪律有助于我们保持理智上的诚实。 这并不意味着我们*总是*需要一个单独的测试集 - 如果你的数据很少，你可能只需要一个验证集 - 但通常最好尽可能使用一个。\n",
    "\n",
    "如果你打算聘请第三方代表你执行建模工作，那么同样的原则也至关重要。 第三方可能无法准确理解你的要求，或者他们的动机甚至可能会促使他们误解你的要求。 一个好的测试集可以极大地减轻这些风险，并让你评估他们的工作是否解决了你的实际问题。\n",
    "\n",
    "坦率地说，如果你是组织中的高级决策者（或者你正在为高级决策者提供建议），那么最重要的收获是：如果你确保真正了解测试集和验证集是什么以及它们的原因 很重要，那么当组织决定使用人工智能时，你将避免我们所看到的最大的失败来源。 例如，如果你正在考虑引入外部供应商或服务，请确保你提供一些供应商*永远看不到*的测试数据。 然后，“你”根据你的测试数据检查他们的模型，使用“你”根据实践中对你真正重要的内容选择的指标，并“你”决定什么水平的性能是足够的。 （你自己尝试一些简单的基线也是一个好主意，这样你就知道一个真正简单的模型可以实现什么。通常情况下，你的简单模型的性能与外部“专家”生成的模型一样好 ！）"
   ]
  },
  {
   "cell_type": "markdown",
   "metadata": {},
   "source": [
    "### 在定义测试集时使用判断"
   ]
  },
  {
   "cell_type": "markdown",
   "metadata": {},
   "source": [
    "为了做好定义验证集（可能还有测试集）的工作，你有时需要做的不仅仅是随机获取原始数据集的一小部分。 请记住：验证集和测试集的一个关键属性是它们必须代表你将来将看到的新数据。 这听起来像是一个不可能完成的命令！ 根据定义，你还没有看到这些数据。 但你通常仍然知道一些事情。\n",
    "\n",
    "看几个例子是有启发性的。 其中许多示例来自 [Kaggle](https://www.kaggle.com/) 平台上的预测建模竞赛，这很好地代表了你在实践中可能遇到的问题和方法。\n",
    "\n",
    "一种情况可能是你正在查看时间序列数据。 对于时间序列，选择数据的随机子集将太容易（你可以查看你尝试预测的日期之前和之后的数据），并且不能代表大多数业务用例（你使用历史数据） 数据来构建未来使用的模型）。 如果你的数据包含日期并且你正在构建一个供将来使用的模型，你将需要选择一个包含最新日期的连续部分作为验证集（例如，最近两周或上个月的可用数据）。\n",
    "\n",
    "假设你想要将 `<<timeseries1>>` 中的时间序列数据拆分为训练集和验证集。"
   ]
  },
  {
   "cell_type": "markdown",
   "metadata": {},
   "source": [
    "<img src=\"images/timeseries1.png\" width=\"400\" id=\"timeseries1\" caption=\"A time series\" alt=\"A serie of values\">"
   ]
  },
  {
   "cell_type": "markdown",
   "metadata": {},
   "source": [
    "随机子集是一个糟糕的选择（太容易填补空白，并且不能表明你在生产中需要什么），正如我们在 `<<timeseries2>>` 中看到的那样。"
   ]
  },
  {
   "cell_type": "markdown",
   "metadata": {},
   "source": [
    "<img src=\"images/timeseries2.png\" width=\"400\" id=\"timeseries2\" caption=\"A poor training subset\" alt=\"Random training subset\">"
   ]
  },
  {
   "cell_type": "markdown",
   "metadata": {},
   "source": [
    "相反，使用较早的数据作为训练集（以及较晚的数据作为验证集），如 `<<timeseries3>>` 中所示。"
   ]
  },
  {
   "cell_type": "markdown",
   "metadata": {},
   "source": [
    "<img src=\"images/timeseries3.png\" width=\"400\" id=\"timeseries3\" caption=\"A good training subset\" alt=\"Training subset using the data up to a certain timestamp\">"
   ]
  },
  {
   "cell_type": "markdown",
   "metadata": {},
   "source": [
    "例如，Kaggle 举办了一场比赛[预测厄瓜多尔连锁杂货店的销售额](https://www.kaggle.com/c/favorita-grocery-sales-forecasting)。 Kaggle的训练数据从2013年1月1日到2017年8月15日，测试数据从2017年8月16日到2017年8月31日。这样，比赛组织者就确保参赛者对“未来”的时间段进行预测， 从他们的模型的角度来看。 这类似于量化对冲基金交易员根据过去的数据进行“回测”以检查他们的模型是否可以预测未来时期的方式。"
   ]
  },
  {
   "cell_type": "markdown",
   "metadata": {},
   "source": [
    "第二种常见情况是，你可以轻松预测在生产中进行预测的数据可能与训练模型所用的数据*有质的不同*。\n",
    "\n",
    "在 Kaggle [分心驾驶员竞赛](https://www.kaggle.com/c/state-farm-distracted-driver-detection) 中，自变量是驾驶汽车的驾驶员的照片，因变量是 是发短信、吃饭或安全地展望未来等类别。 正如我们在 <<img_driver>> 中看到的那样，许多图片都是同一驱动程序在不同位置的情况。 如果你是一家保险公司，根据这些数据构建模型，请注意，你最感兴趣的是模型如何在以前从未见过的驾驶员上执行（因为你可能只有一小部分人的训练数据）。 认识到这一点，比赛的测试数据由训练集中未出现的人物图像组成。"
   ]
  },
  {
   "cell_type": "markdown",
   "metadata": {},
   "source": [
    "<img src=\"images/driver.PNG\" width=\"600\" id=\"img_driver\" caption=\"Two pictures from the training data\" alt=\"Two pictures from the training data, showing the same driver\">"
   ]
  },
  {
   "cell_type": "markdown",
   "metadata": {},
   "source": [
    "如果你将 <<img_driver>> 中的一张图像放入训练集中，并将一张图像放入验证集中，你的模型将很容易对验证集中的图像进行预测，因此它看起来会表现得更好 比对新人的影响更大。 另一种观点是，如果你使用所有人来训练你的模型，你的模型可能会过度拟合这些特定人的特殊性，而不仅仅是学习状态（发短信、吃饭等）。\n",
    "\n",
    "[Kaggle 渔业竞赛](https://www.kaggle.com/c/the-nature-conservancy-fisheries-monitoring) 中也存在类似的动态，旨在识别渔船捕获的鱼类种类，以减少 对濒临灭绝的种群进行非法捕捞。 测试集由训练数据中未出现的船只组成。 这意味着你希望验证集包含不在训练集中的船只。\n",
    "\n",
    "有时可能不清楚你的验证数据有何不同。 例如，对于使用卫星图像的问题，你需要收集更多信息，了解训练集是否仅包含某些地理位置，或者是否来自地理上分散的数据。"
   ]
  },
  {
   "cell_type": "markdown",
   "metadata": {},
   "source": [
    "现在你已经了解了如何构建模型，你可以决定下一步要深入研究什么。"
   ]
  },
  {
   "cell_type": "markdown",
   "metadata": {},
   "source": [
    "## _选择你自己的冒险_ 时刻"
   ]
  },
  {
   "cell_type": "markdown",
   "metadata": {},
   "source": [
    "如果你想详细了解如何在实践中使用深度学习模型，包括如何识别和修复错误、创建真正有效的 Web 应用程序以及避免你的模型对你的组织或社会造成更普遍的意外伤害，请继续阅读 接下来的两章。 如果你想开始学习深度学习底层工作原理的基础知识，请跳至<<chapter_mnist_basics>>。 （你小时候读过《选择你自己的冒险》一书吗？嗯，这有点像……除了比该系列丛书包含的更深入的学习。）\n",
    "\n",
    "你需要阅读所有这些章节才能进一步阅读本书，但这完全取决于你阅读它们的顺序。它们并不相互依赖。 如果你跳到<<chapter_mnist_basics>>，我们会在最后提醒你在继续之前返回并阅读你跳过的章节。"
   ]
  },
  {
   "cell_type": "markdown",
   "metadata": {},
   "source": [
    "## 问卷调查"
   ]
  },
  {
   "cell_type": "markdown",
   "metadata": {},
   "source": [
    "在一页又一页的散文中，很难知道你真正需要关注和记住的关键内容是什么。 因此，我们在每章末尾准备了一系列问题和建议的完成步骤。 所有的答案都在本章的正文中，因此，如果你对此处的任何内容不确定，请重读正文的该部分并确保你理解它。 所有这些问题的答案也可以在[本书的网站](https://book.fast.ai)上找到。 如果你无法从学习本材料的其他人那里获得帮助，你也可以访问[论坛](https://forums.fast.ai)。\n",
    "\n",
    "有关更多问题，包括详细答案和视频时间线链接，请查看 Radek Osmulski 的 [aiquizzes](http://aiquizzes.com/howto)。"
   ]
  },
  {
   "cell_type": "markdown",
   "metadata": {},
   "source": [
    "1. 深度学习需要这些吗？\n",
    "\n",
    "    - 很多数学T/F\n",
    "    - 大量数据T/F\n",
    "    - 很多昂贵的电脑T/F\n",
    "    - 博士 T / F\n",
    "   \n",
    "1. 列出深度学习目前世界上最好的五个领域。\n",
    "1. 第一个基于人工神经元原理的装置叫什么名字？\n",
    "1. 根据同名书籍，并行分布式处理（PDP）有哪些要求？\n",
    "1. 阻碍神经网络领域发展的两个理论误解是什么？\n",
    "1.什么是GPU？\n",
    "1. 打开笔记本并执行包含“1+1”的单元格。 会发生什么？\n",
    "1. 阅读本章笔记本精简版的每个单元格。 在执行每个单元之前，猜测会发生什么。\n",
    "1. 完成 Jupyter Notebook 在线附录。\n",
    "1. 为什么传统的计算机程序很难识别照片中的图像？\n",
    "1. 撒母耳所说的“权重分配”是什么意思？\n",
    "1. 在深度学习中，我们通常使用什么术语来表示 Samuel 所说的“权重”？\n",
    "1. 画一张图来总结 Samuel 对机器学习模型的看法。\n",
    "1. 为什么深度学习模型做出特定预测很难理解？\n",
    "1. 表明神经网络可以以任何精度水平解决任何数学问题的定理的名称是什么？\n",
    "1. 训练模型需要什么？\n",
    "1. 反馈循环如何影响预测警务模型的推出？\n",
    "1. 猫识别模型是否总是必须使用 224×224 像素的图像？\n",
    "1. 分类和回归有什么区别？\n",
    "1.什么是验证集？ 什么是测试集？ 为什么我们需要它们？\n",
    "1. 如果不提供验证集，fastai会怎么做？\n",
    "1. 我们是否可以始终使用随机样本作为验证集？ 为什么或者为什么不？\n",
    "1.什么是过拟合？ 举个例子。\n",
    "1.什么是指标？ 它与“损失”有何不同？\n",
    "1. 预训练模型有何帮助？\n",
    "1.什么是模型的“头”？\n",
    "1. CNN 的早期层发现哪些类型的特征？ 后面几层怎么样？\n",
    "1. 图像模型只对照片有用吗？\n",
    "1.什么是“架构”？\n",
    "1.什么是细分？\n",
    "1.`y_range`有什么用？ 我们什么时候需要它？\n",
    "1.什么是“超参数”？\n",
    "1. 在组织中使用人工智能时避免失败的最佳方法是什么？"
   ]
  },
  {
   "cell_type": "markdown",
   "metadata": {},
   "source": [
    "### 深入研究"
   ]
  },
  {
   "cell_type": "markdown",
   "metadata": {},
   "source": [
    "每章还有一个“深入研究”部分，提出了文本中未完全回答的问题，或给出了更高级的作业。 这些问题的答案不在这本书的网站上； 你需要自己做研究！"
   ]
  },
  {
   "cell_type": "markdown",
   "metadata": {},
   "source": [
    "1. 为什么 GPU 对于深度学习有用？ CPU 有什么不同，为什么它对于深度学习效果较差？\n",
    "2. 尝试考虑反馈循环可能影响机器学习使用的三个领域。 看看是否可以找到实践中发生的情况的记录示例。"
   ]
  }
 ],
 "metadata": {
  "jupytext": {
   "split_at_heading": true
  },
  "kernelspec": {
   "display_name": "Python 3 (ipykernel)",
   "language": "python",
   "name": "python3"
  },
  "language_info": {
   "codemirror_mode": {
    "name": "ipython",
    "version": 3
   },
   "file_extension": ".py",
   "mimetype": "text/x-python",
   "name": "python",
   "nbconvert_exporter": "python",
   "pygments_lexer": "ipython3",
   "version": "3.11.7"
  }
 },
 "nbformat": 4,
 "nbformat_minor": 4
}
