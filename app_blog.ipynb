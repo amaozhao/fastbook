{
 "cells": [
  {
   "cell_type": "raw",
   "metadata": {},
   "source": [
    "[[appendix_blog]]\n",
    "[appendix]\n",
    "[role=\"Creating a blog\"]"
   ]
  },
  {
   "cell_type": "markdown",
   "metadata": {},
   "source": [
    "# 创建博客"
   ]
  },
  {
   "cell_type": "markdown",
   "metadata": {},
   "source": [
    "不幸的是，当谈到博客时，似乎你必须做出一个艰难的决定：要么使用一个让写作变得容易的平台，但这样会让你和你的读者受到广告、付费墙和费用的影响；要么花费数小时设置自己的托管服务，并花费数周时间学习各种复杂的细节。然而，最大的好处是，\"自己动手\"的方法让你真正拥有自己的文章，而不是受制于服务提供商及其未来如何从你的内容中获利的决定。\n",
    "\n",
    "然而，事实证明，你可以两者兼得！"
   ]
  },
  {
   "cell_type": "markdown",
   "metadata": {},
   "source": [
    "## 用 GitHub Pages 搭建博客"
   ]
  },
  {
   "cell_type": "markdown",
   "metadata": {},
   "source": [
    "一个很好的解决方案是在名为[GitHub Pages](https://pages.github.com/)的平台上托管你的博客，它是免费的，没有广告或付费墙，并且以标准方式使你的数据可用，这样你可以随时将你的博客迁移到其他主机。但是，我所见过的所有使用GitHub Pages的方法都需要了解命令行和只有软件开发人员可能熟悉的神秘工具。例如，GitHub关于[设置博客的官方文档](https://help.github.com/en/github/working-with-github-pages/creating-a-github-pages-site-with-jekyll)包括了一系列涉及安装Ruby编程语言、使用`git`命令行工具、复制版本号等的长篇指令——总共有17个步骤！\n",
    "\n",
    "为了减少麻烦，我们创建了一个简单的方法，允许你使用一个完全基于浏览器的界面来满足你所有的博客需求。你将在大约五分钟内启动并运行你的新博客。它不花任何费用，如果你愿意，你还可以轻松地添加你自己的自定义域名。在这一部分中，我们将解释如何使用我们创建的一个名为*fast\\_template*的模板来实现它。（注意：请确保查看[书籍网站](https://book.fast.ai)上的最新博客推荐，因为新工具总是在不断出现）。"
   ]
  },
  {
   "cell_type": "markdown",
   "metadata": {},
   "source": [
    "### 创建存储库"
   ]
  },
  {
   "cell_type": "markdown",
   "metadata": {},
   "source": [
    "你需要在GitHub上有一个账户，所以如果你还没有的话，现在就去创建一个。确保你已经登录。通常情况下，GitHub是被软件开发人员用来编写代码的，他们使用一个复杂的命令行工具来与之交互——但我们将会向你展示一种完全不使用命令行的方法！\n",
    "\n",
    "要开始，将你的浏览器指向[https://github.com/fastai/fast_template/generate](https://github.com/fastai/fast_template/generate)（你需要登录GitHub才能使链接生效）。这将允许你创建一个存储你博客的地方，称为*仓库*。你会看到一个像<<github_repo>>中的屏幕。注意，你必须使用这里显示的*确切*格式输入你的仓库名称，即你的GitHub用户名后跟`.github.io`。\n",
    "\n",
    "<img width=\"440\" src=\"images/fast_template/image1.png\" id=\"github_repo\" caption=\"创建你的仓库\" alt=\"创建新仓库的GitHub页面的屏幕截图\">\n",
    "\n",
    "输入这些信息后，以及任何你想要的描述，点击“从模板创建仓库”。你可以选择将仓库设置为“私有”，但既然你正在创建一个你希望其他人阅读的博客，希望底层文件的公开可用对你来说不会是问题。\n",
    "\n",
    "现在，让我们设置你的主页吧！"
   ]
  },
  {
   "cell_type": "markdown",
   "metadata": {},
   "source": [
    "### 设置首页"
   ]
  },
  {
   "cell_type": "markdown",
   "metadata": {},
   "source": [
    "当读者访问你的博客时，他们首先看到的是一个名为*index.md*的文件的内容。这是一个[markdown](https://guides.github.com/features/mastering-markdown/)文件。Markdown是一种强大而简单的创建格式化文本的方式，例如项目符号、斜体、超链接等。它非常广泛地被使用，包括在Jupyter笔记本中的所有格式化、GitHub网站的几乎所有部分，以及互联网上的许多其他地方。要创建markdown文本，你只需用纯英文输入，然后添加一些特殊字符来添加特殊行为。例如，如果你在单词或短语前后输入一个`*`字符，那将使其变为*斜体*。现在让我们尝试一下。\n",
    "\n",
    "要打开文件，请在GitHub上点击文件名。要编辑它，请像<<fastpage_edit>>中显示的那样，点击屏幕最右侧的铅笔图标。\n",
    "\n",
    "<img width=\"800\" src=\"images/fast_template/image3.png\" alt=\"显示点击编辑文件的位置的屏幕截图\" id=\"fastpage_edit\" caption=\"点击编辑此文件\">"
   ]
  },
  {
   "cell_type": "markdown",
   "metadata": {},
   "source": [
    "You can add to, edit, or replace the texts that you see. Click \"Preview changes\" (<<fastpage_preview>>) to see what your markdown text will look like in your blog. Lines that you have added or changed will appear with a green bar on the lefthand side.\n",
    "\n",
    "<img width=\"350\" src=\"images/fast_template/image4.png\" alt=\"Screenshot showing where to click to preview changes\" id=\"fastpage_preview\" caption=\"Preview changes to catch any mistake\">\n",
    "\n",
    "To save your changes, scroll to the bottom of the page and click \"Commit changes,\" as shown in <<fastpage_commit>>. On GitHub, to \"commit\" something means to save it to the GitHub server.\n",
    "\n",
    "<img width=\"600\" src=\"images/fast_template/image5.png\" alt=\"Screenshot showing where to click to commit the changes\" id=\"fastpage_commit\" caption=\"Commit your changes to save them\">"
   ]
  },
  {
   "cell_type": "markdown",
   "metadata": {},
   "source": [
    "你可以添加、编辑或替换你看到的文本。点击“预览更改”（<<fastpage_preview>>）来查看你的markdown文本在你的博客中会是什么样子。你添加或更改的行将在左侧显示一个绿色的条。\n",
    "\n",
    "<img width=\"350\" src=\"images/fast_template/image4.png\" alt=\"显示点击预览更改以捕捉任何错误的屏幕截图\" id=\"fastpage_preview\" caption=\"预览更改\">\n",
    "\n",
    "要保存你的更改，请滚动到页面底部，点击“提交更改”，如<<fastpage_commit>>中所示。在GitHub上，“提交”某物意味着将其保存到GitHub服务器。\n",
    "\n",
    "<img width=\"600\" src=\"images/fast_template/image5.png\" alt=\"显示点击提交更改以保存它们的屏幕截图\" id=\"fastpage_commit\" caption=\"提交你的更改以保存它们\">"
   ]
  },
  {
   "cell_type": "markdown",
   "metadata": {},
   "source": [
    "### 创建帖子"
   ]
  },
  {
   "cell_type": "markdown",
   "metadata": {},
   "source": [
    "现在你准备好创建你的第一个帖子了。你的所有帖子都会放在*_posts*文件夹中。现在点击它，然后点击“创建文件”按钮。你需要小心地使用格式*&lt;year>-&lt;month>-&lt;day>-&lt;name>.md*来命名你的文件，如<<fastpage_name>>所示，其中*&lt;year>*是一个四位数，*&lt;month>*和*&lt;day>*是两位数。*&lt;name>*可以是任何帮助你记住这个帖子内容的东西。*.md*扩展名是用于markdown文档的。\n",
    "\n",
    "<img width=\"440\" src=\"images/fast_template/image8.png\" alt=\"显示创建新博客文章的正确语法的屏幕截图\" id=\"fastpage_name\" caption=\"命名你的帖子\">\n",
    "\n",
    "然后你可以输入你第一篇帖子的内容。唯一的规则是你的帖子的第一行必须是markdown标题。这是通过在一行的开头放置`# `来创建的，如<<fastpage_title>>所示（这创建了一个一级标题，你只在文档开头使用一次；你可以使用`## `创建二级标题，使用`###`创建三级标题，等等）。\n",
    "\n",
    "<img width=\"300\" src=\"images/fast_template/image9.png\" alt=\"显示博客文章开头的屏幕截图\" id=\"fastpage_title\" caption=\"标题的Markdown语法\">"
   ]
  },
  {
   "cell_type": "markdown",
   "metadata": {},
   "source": [
    "和之前一样，你可以点击“预览”按钮来查看你的markdown格式将如何显示（<<fastpage_preview1>>）。\n",
    "\n",
    "<img width=\"400\" src=\"images/fast_template/image10.png\" alt=\"显示在HTML中解释的相同博客文章的屏幕截图\" id=\"fastpage_preview1\" caption=\"之前的markdown语法在你的博客上将是什么样子\">\n",
    "\n",
    "并且你需要点击“提交新文件”按钮来将其保存到GitHub，如<<fastpage_commit1>>所示。\n",
    "\n",
    "<img width=\"700\" src=\"images/fast_template/image11.png\" alt=\"显示点击提交新文件的位置的屏幕截图\" id=\"fastpage_commit1\" caption=\"提交你的更改以保存它们\">"
   ]
  },
  {
   "cell_type": "markdown",
   "metadata": {},
   "source": [
    "再次查看你的博客主页，你会看到这篇文章现在已经出现了——<<fastpage_live>>显示了我们刚刚添加的示例帖子的结果。（请记住，在文件显示之前，你需要等待一分钟左右，以便GitHub处理请求。）\n",
    "\n",
    "<img width=\"500\" src=\"images/fast_template/image12.png\" alt=\"显示博客网站上的第一篇帖子的屏幕截图\" id=\"fastpage_live\" caption=\"你的博客文章上线了！\">\n",
    "\n",
    "你可能已经注意到我们提供了一个示例博客文章，你现在可以删除它。像以前一样，前往你的*_posts*文件夹，然后点击*2020-01-14-welcome.md*。然后点击屏幕右侧的垃圾桶图标，如<<fastpage_delete>>所示。\n",
    "\n",
    "<img width=\"400\" src=\"images/fast_template/image13.png\" alt=\"显示如何删除模拟帖子的屏幕截图\" id=\"fastpage_delete\" caption=\"删除示例博客文章\">"
   ]
  },
  {
   "cell_type": "markdown",
   "metadata": {},
   "source": [
    "在GitHub上，直到你提交，实际上什么都不会发生变化——包括当你删除一个文件时！所以，在点击垃圾桶图标后，滚动到页面底部并提交你的更改。\n",
    "\n",
    "你可以通过添加一行markdown来在你的帖子中包含图片，如下所示：\n",
    "\n",
    "    ![图片描述](images/filename.jpg)\n",
    "\n",
    "为了使这工作，你需要将图片放在你的*images*文件夹中。要做到这一点，点击*images*文件夹，然后点击“上传文件”按钮（<<fastpage_upload>>）。\n",
    "\n",
    "<img width=\"400\" src=\"images/fast_template/image14.png\" alt=\"显示如何上传新文件的屏幕截图\" id=\"fastpage_upload\" caption=\"从你的电脑上传一个文件\">"
   ]
  },
  {
   "cell_type": "markdown",
   "metadata": {},
   "source": [
    "现在让我们看看如何直接从你的电脑上完成所有这些操作。"
   ]
  },
  {
   "cell_type": "markdown",
   "metadata": {},
   "source": [
    "### 同步 GitHub 和 计算机"
   ]
  },
  {
   "cell_type": "markdown",
   "metadata": {},
   "source": [
    "你可能有很多原因想要将你的博客内容从GitHub复制到你的电脑上——你可能想要离线阅读或编辑你的帖子，或者你可能想要一个备份，以防你的GitHub仓库出现问题。\n",
    "\n",
    "GitHub不仅仅是让你将你的仓库复制到你的电脑上；它让你与你的电脑*同步*它。这意味着你可以在GitHub上进行更改，它们会复制到你的电脑上，你可以在电脑上进行更改，它们会复制回GitHub。你甚至可以让别人访问和修改你的博客，他们的更改和你的更改将在下次同步时自动合并在一起。\n",
    "\n",
    "要使这工作，你必须在你的电脑上安装一个名为[GitHub Desktop](https://desktop.github.com/)的应用程序。它可以在Mac、Windows和Linux上运行。按照说明安装它，当你运行它时，它会要求你登录GitHub并选择要同步的仓库。点击“从互联网克隆一个仓库”，如<<fastpage_clone>>所示。\n",
    "\n",
    "<img src=\"images/gitblog/image1.png\" width=\"400\" alt=\"显示如何在GitHub Desktop上克隆你的仓库的屏幕截图\" id=\"fastpage_clone\" caption=\"在GitHub Desktop上克隆你的仓库\">"
   ]
  },
  {
   "cell_type": "markdown",
   "metadata": {},
   "source": [
    "一旦GitHub完成同步你的仓库，你就可以点击“在资源管理器中查看你的仓库文件”（或Finder），如<<fastpage_explorer>>所示，你会看到你博客的本地副本！尝试编辑电脑上的一个文件。然后返回到GitHub Desktop，你会看到“同步”按钮在等你按下。当你点击它时，你的更改将被复制到GitHub，在那里你会在网站上看到它们反映出来。\n",
    "\n",
    "<img src=\"images/gitblog/image2.png\" width=\"600\" alt=\"显示克隆仓库的屏幕截图\" id=\"fastpage_explorer\" caption=\"在本地查看你的文件\">"
   ]
  },
  {
   "cell_type": "markdown",
   "metadata": {},
   "source": [
    "如果你之前没有使用过`git`，GitHub Desktop是一个很好的起点。正如你将发现的，它是大多数数据科学家使用的基本工具。另一个我们希望你现在也喜欢的工具是Jupyter Notebook——而且还有办法直接用它来写博客！"
   ]
  },
  {
   "cell_type": "markdown",
   "metadata": {},
   "source": [
    "## 用于博客的 Jupyter"
   ]
  },
  {
   "cell_type": "markdown",
   "metadata": {},
   "source": [
    "你也可以使用Jupyter笔记本来写博客文章。你的markdown单元格、代码单元格以及所有的输出都会出现在你导出的博客文章中。到你阅读这本书的时候，最好的方法可能已经改变了，所以请务必查看[书籍网站](https://book.fast.ai)以获取最新信息。在我们写这本书的时候，从笔记本创建博客的最简单方法是使用[`fastpages`](http://fastpages.fast.ai/)，它是`fast_template`的更高级版本。\n",
    "\n",
    "要使用笔记本写博客，只需将其放入你博客仓库的*_notebooks*文件夹中，它就会出现在你的博客文章列表中。当你写笔记本时，写下你想让读者看到的内容。由于大多数写作平台很难包含代码和输出，我们中的许多人习惯于包含比我们应该的更少的实际示例。这是一个很好的方式来养成在写作时包含大量示例的习惯。\n",
    "\n",
    "通常，你会想要隐藏模板代码，比如导入语句。你可以在任何单元格的顶部添加`#hide`来使其不在输出中显示。Jupyter显示单元格的最后一行的结果，所以不需要包含`print()`。（包含不必要的额外代码意味着读者的认知负担更重；所以不要包含你真正不需要的代码！）"
   ]
  }
 ],
 "metadata": {
  "jupytext": {
   "split_at_heading": true
  },
  "kernelspec": {
   "display_name": "Python 3",
   "language": "python",
   "name": "python3"
  }
 },
 "nbformat": 4,
 "nbformat_minor": 2
}
